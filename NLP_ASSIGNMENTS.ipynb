{
  "nbformat": 4,
  "nbformat_minor": 0,
  "metadata": {
    "colab": {
      "provenance": [],
      "authorship_tag": "ABX9TyMGlivKGX44SmpzmBd9WQZu",
      "include_colab_link": true
    },
    "kernelspec": {
      "name": "python3",
      "display_name": "Python 3"
    },
    "language_info": {
      "name": "python"
    }
  },
  "cells": [
    {
      "cell_type": "markdown",
      "metadata": {
        "id": "view-in-github",
        "colab_type": "text"
      },
      "source": [
        "<a href=\"https://colab.research.google.com/github/subashini092/Assignments/blob/main/NLP_ASSIGNMENTS.ipynb\" target=\"_parent\"><img src=\"https://colab.research.google.com/assets/colab-badge.svg\" alt=\"Open In Colab\"/></a>"
      ]
    },
    {
      "cell_type": "markdown",
      "source": [
        "# Coding Question on Bag of Words TF-IDF Word Embeddings\n",
        "Write a Python program to convert a given text into a Bag of Words (BoW) representation using `CountVectorizer` from `sklearn.feature_extraction.text`.\n",
        "Also, compute the TF-IDF representation using `TfidfVectorizer`.\n",
        "Example input:\n",
        "    [\"I love machine learning\", \"Machine learning is fun\", \"Deep learning is amazing\"]\n",
        "\n",
        "\n",
        "## **New Section**"
      ],
      "metadata": {
        "id": "fYY3HzNb1Dls"
      }
    },
    {
      "cell_type": "code",
      "source": [
        "from sklearn.feature_extraction.text import CountVectorizer, TfidfVectorizer\n",
        "\n",
        "# Example input\n",
        "texts = [\"I love machine learning\", \"Machine learning is fun\", \"Deep learning is amazing\"]\n",
        "\n",
        "# Convert text to Bag of Words (BoW) representation\n",
        "count_vectorizer = CountVectorizer()\n",
        "bow_representation = count_vectorizer.fit_transform(texts)\n",
        "print(\"Bag of Words (BoW) Representation:\")\n",
        "print(bow_representation.toarray())\n",
        "print(\"Feature Names:\", count_vectorizer.get_feature_names_out())\n",
        "\n",
        "# Compute TF-IDF representation\n",
        "tfidf_vectorizer = TfidfVectorizer()\n",
        "tfidf_representation = tfidf_vectorizer.fit_transform(texts)\n",
        "print(\"\\nTF-IDF Representation:\")\n",
        "print(tfidf_representation.toarray())\n",
        "print(\"Feature Names:\", tfidf_vectorizer.get_feature_names_out())\n"
      ],
      "metadata": {
        "colab": {
          "base_uri": "https://localhost:8080/"
        },
        "id": "r1S1MOO01HyZ",
        "outputId": "6bef700a-5e17-43f9-d4d0-417eedea360c"
      },
      "execution_count": 1,
      "outputs": [
        {
          "output_type": "stream",
          "name": "stdout",
          "text": [
            "Bag of Words (BoW) Representation:\n",
            "[[0 0 0 0 1 1 1]\n",
            " [0 0 1 1 1 0 1]\n",
            " [1 1 0 1 1 0 0]]\n",
            "Feature Names: ['amazing' 'deep' 'fun' 'is' 'learning' 'love' 'machine']\n",
            "\n",
            "TF-IDF Representation:\n",
            "[[0.         0.         0.         0.         0.42544054 0.72033345\n",
            "  0.54783215]\n",
            " [0.         0.         0.63174505 0.4804584  0.37311881 0.\n",
            "  0.4804584 ]\n",
            " [0.5844829  0.5844829  0.         0.44451431 0.34520502 0.\n",
            "  0.        ]]\n",
            "Feature Names: ['amazing' 'deep' 'fun' 'is' 'learning' 'love' 'machine']\n"
          ]
        }
      ]
    },
    {
      "cell_type": "code",
      "source": [],
      "metadata": {
        "id": "GJTinMvp1gEs"
      },
      "execution_count": null,
      "outputs": []
    },
    {
      "cell_type": "markdown",
      "source": [
        "DAY-37\n",
        "Coding Question on Naive Bayes Models\n",
        "Write a Python program to perform text classification using a Naïve Bayes classifier (`MultinomialNB`) from `sklearn.naive_bayes`.\n",
        "Train the model using sample text data and predict the category of a given new text.\n",
        "Example input:\n",
        "    [\"I love programming\", \"Python is great\", \"Machine learning is amazing\"]"
      ],
      "metadata": {
        "id": "qkuWyeRN1nAr"
      }
    },
    {
      "cell_type": "code",
      "source": [
        "from sklearn.feature_extraction.text import CountVectorizer\n",
        "from sklearn.naive_bayes import MultinomialNB\n",
        "from sklearn.model_selection import train_test_split\n",
        "\n",
        "# Example input\n",
        "texts = [\"I love programming\", \"Python is great\", \"Machine learning is amazing\"]\n",
        "categories = [\"positive\", \"positive\", \"positive\"]  # Labels for the input texts\n",
        "\n",
        "# Vectorize the text data\n",
        "vectorizer = CountVectorizer()\n",
        "X = vectorizer.fit_transform(texts)\n",
        "\n",
        "# Split the data into training and test sets\n",
        "X_train, X_test, y_train, y_test = train_test_split(X, categories, test_size=0.2, random_state=42)\n",
        "\n",
        "# Train the Naive Bayes classifier\n",
        "model = MultinomialNB()\n",
        "model.fit(X_train, y_train)\n",
        "\n",
        "# Predict the category of a new text\n",
        "new_text = [\"I enjoy coding\"]\n",
        "new_text_vectorized = vectorizer.transform(new_text)\n",
        "predicted_category = model.predict(new_text_vectorized)\n",
        "\n",
        "print(\"Predicted Category:\", predicted_category[0])\n"
      ],
      "metadata": {
        "colab": {
          "base_uri": "https://localhost:8080/"
        },
        "id": "zVmpH9J21xQU",
        "outputId": "60a1ee89-cfac-4083-ed07-d1bcd5f3b219"
      },
      "execution_count": 2,
      "outputs": [
        {
          "output_type": "stream",
          "name": "stdout",
          "text": [
            "Predicted Category: positive\n"
          ]
        }
      ]
    },
    {
      "cell_type": "markdown",
      "source": [
        "DAY-38\n",
        "Coding Question on Text Classification Models\n",
        "Write a Python program to classify text using a simple Decision Tree model from `sklearn. tree. DecisionTreeClassifier`.\n",
        "Convert text data into numerical format using `TfidfVectorizer`.\n",
        "Example input:\n",
        "    [\"Spam messages are annoying\", \"I won a lottery\", \"This is a normal message\"]\n"
      ],
      "metadata": {
        "id": "ygyHdZjh2Dg4"
      }
    },
    {
      "cell_type": "code",
      "source": [
        "from sklearn.feature_extraction.text import TfidfVectorizer\n",
        "from sklearn.tree import DecisionTreeClassifier\n",
        "from sklearn.model_selection import train_test_split\n",
        "\n",
        "# Example input\n",
        "texts = [\"Spam messages are annoying\", \"I won a lottery\", \"This is a normal message\"]\n",
        "categories = [\"spam\", \"spam\", \"normal\"]  # Labels for the input texts\n",
        "\n",
        "# Convert text to numerical format using TfidfVectorizer\n",
        "vectorizer = TfidfVectorizer()\n",
        "X = vectorizer.fit_transform(texts)\n",
        "\n",
        "# Split the data into training and test sets\n",
        "X_train, X_test, y_train, y_test = train_test_split(X, categories, test_size=0.2, random_state=42)\n",
        "\n",
        "# Train the Decision Tree model\n",
        "model = DecisionTreeClassifier()\n",
        "model.fit(X_train, y_train)\n",
        "\n",
        "# Predict the category of a new text\n",
        "new_text = [\"You have won a prize\"]\n",
        "new_text_vectorized = vectorizer.transform(new_text)\n",
        "predicted_category = model.predict(new_text_vectorized)\n",
        "\n",
        "print(\"Predicted Category:\", predicted_category[0])\n"
      ],
      "metadata": {
        "colab": {
          "base_uri": "https://localhost:8080/"
        },
        "id": "E3Q7OMwV2KF7",
        "outputId": "86c62c6c-ea96-4968-d295-6eb18c101ca8"
      },
      "execution_count": 3,
      "outputs": [
        {
          "output_type": "stream",
          "name": "stdout",
          "text": [
            "Predicted Category: spam\n"
          ]
        }
      ]
    },
    {
      "cell_type": "markdown",
      "source": [
        "# DAY-39\n",
        "\n",
        "Coding Question on Ensemble Models Text Classification\n",
        "Write a Python program to classify text using an ensemble model (`RandomForestClassifier`) from `sklearn.ensemble`.\n",
        "Use `TfidfVectorizer` to convert text into numerical format.\n",
        "Example input:\n",
        "    [\"Buy now and win a prize\", \"Normal email content\", \"Congratulations, you won!\"]\n",
        "\n",
        "\n"
      ],
      "metadata": {
        "id": "1QO2Wt4U2am4"
      }
    },
    {
      "cell_type": "code",
      "source": [
        "from sklearn.feature_extraction.text import TfidfVectorizer\n",
        "from sklearn.ensemble import RandomForestClassifier\n",
        "from sklearn.model_selection import train_test_split\n",
        "\n",
        "# Example input\n",
        "texts = [\"Buy now and win a prize\", \"Normal email content\", \"Congratulations, you won!\"]\n",
        "categories = [\"spam\", \"normal\", \"spam\"]  # Labels for the input texts\n",
        "\n",
        "# Convert text to numerical format using TfidfVectorizer\n",
        "vectorizer = TfidfVectorizer()\n",
        "X = vectorizer.fit_transform(texts)\n",
        "\n",
        "# Split the data into training and test sets\n",
        "X_train, X_test, y_train, y_test = train_test_split(X, categories, test_size=0.2, random_state=42)\n",
        "\n",
        "# Train the RandomForest model\n",
        "model = RandomForestClassifier()\n",
        "model.fit(X_train, y_train)\n",
        "\n",
        "# Predict the category of a new text\n",
        "new_text = [\"Exclusive offer just for you\"]\n",
        "new_text_vectorized = vectorizer.transform(new_text)\n",
        "predicted_category = model.predict(new_text_vectorized)\n",
        "\n",
        "print(\"Predicted Category:\", predicted_category[0])\n"
      ],
      "metadata": {
        "colab": {
          "base_uri": "https://localhost:8080/"
        },
        "id": "uWA-vBqc2iG-",
        "outputId": "c271b1bd-9a9e-4c92-a812-b3e0239fa4ed"
      },
      "execution_count": 4,
      "outputs": [
        {
          "output_type": "stream",
          "name": "stdout",
          "text": [
            "Predicted Category: spam\n"
          ]
        }
      ]
    }
  ]
}