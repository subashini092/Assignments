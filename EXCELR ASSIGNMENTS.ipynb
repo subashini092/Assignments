{
 "cells": [
  {
   "cell_type": "markdown",
   "id": "f4c26901",
   "metadata": {},
   "source": [
    "### Coding Questions\n",
    "1. Jupyter Notebook and Data Types\n",
    "Write a program in Jupyter Notebook to declare variables of different data types (integer, float, string, and boolean). Print each variable and its type.\n"
   ]
  },
  {
   "cell_type": "code",
   "execution_count": 2,
   "id": "0b129506",
   "metadata": {
    "scrolled": true
   },
   "outputs": [
    {
     "name": "stdout",
     "output_type": "stream",
     "text": [
      "Variable Types and Values:\n",
      "Integer: 42 (Type: <class 'int'>)\n",
      "Float: 3.14 (Type: <class 'float'>)\n",
      "String: Hello, Jupyter Notebook! (Type: <class 'str'>)\n",
      "Boolean: True (Type: <class 'bool'>)\n",
      "\n",
      "Basic Operations:\n",
      "Sum of integer_var and 10: 52\n",
      "Product of float_var and 2: 6.28\n",
      "Uppercase string_var: HELLO, JUPYTER NOTEBOOK!\n",
      "Negation of boolean_var: False\n",
      "\n",
      "Combined Result:\n",
      "The integer is 42, the float is 3.14, and the string says 'Hello, Jupyter Notebook!'.\n",
      "\n",
      "Conditional Statement:\n",
      "The boolean variable is True.\n"
     ]
    }
   ],
   "source": [
    "# Jupyter Notebook\n",
    "\n",
    "# Declare variables of different data types\n",
    "integer_var = 42\n",
    "float_var = 3.14\n",
    "string_var = \"Hello, Jupyter Notebook!\"\n",
    "boolean_var = True\n",
    "\n",
    "# Print each variable and its type\n",
    "print(\"Variable Types and Values:\")\n",
    "print(f\"Integer: {integer_var} (Type: {type(integer_var)})\")\n",
    "print(f\"Float: {float_var} (Type: {type(float_var)})\")\n",
    "print(f\"String: {string_var} (Type: {type(string_var)})\")\n",
    "print(f\"Boolean: {boolean_var} (Type: {type(boolean_var)})\")\n",
    "\n",
    "# Perform some basic operations with these variables\n",
    "print(\"\\nBasic Operations:\")\n",
    "\n",
    "# Integer operations\n",
    "sum_integer = integer_var + 10\n",
    "print(f\"Sum of integer_var and 10: {sum_integer}\")\n",
    "\n",
    "# Float operations\n",
    "product_float = float_var * 2\n",
    "print(f\"Product of float_var and 2: {product_float}\")\n",
    "\n",
    "# String operations\n",
    "uppercase_string = string_var.upper()\n",
    "print(f\"Uppercase string_var: {uppercase_string}\")\n",
    "\n",
    "# Boolean operations\n",
    "negation_boolean = not boolean_var\n",
    "print(f\"Negation of boolean_var: {negation_boolean}\")\n",
    "\n",
    "# Combining variables of different types\n",
    "combined_result = f\"The integer is {integer_var}, the float is {float_var}, and the string says '{string_var}'.\"\n",
    "print(f\"\\nCombined Result:\\n{combined_result}\")\n",
    "\n",
    "# Conditional statements using boolean_var\n",
    "print(\"\\nConditional Statement:\")\n",
    "if boolean_var:\n",
    "    print(\"The boolean variable is True.\")\n",
    "else:\n",
    "    print(\"The boolean variable is False.\")\n"
   ]
  },
  {
   "cell_type": "markdown",
   "id": "64b08c9f",
   "metadata": {},
   "source": [
    "## DAY-2"
   ]
  },
  {
   "cell_type": "markdown",
   "id": "174ffbee",
   "metadata": {},
   "source": [
    "#QNO:Create a List, tuple and Dictionary with 5 elements in it and how to access few elements based on the index. Try with different examples"
   ]
  },
  {
   "cell_type": "markdown",
   "id": "bfb1df03",
   "metadata": {},
   "source": [
    "##LIST"
   ]
  },
  {
   "cell_type": "code",
   "execution_count": 1,
   "id": "71ef45f9",
   "metadata": {},
   "outputs": [
    {
     "name": "stdout",
     "output_type": "stream",
     "text": [
      "List: [10, 20, 30, 40, 50]\n",
      "First element: 10\n",
      "Third element: 30\n",
      "Last element: 50\n"
     ]
    }
   ],
   "source": [
    "# Creating a list with 5 elements\n",
    "my_list = [10, 20, 30, 40, 50]\n",
    "\n",
    "# Accessing elements based on index\n",
    "first_element = my_list[0]  # First element\n",
    "third_element = my_list[2]  # Third element\n",
    "last_element = my_list[-1]  # Last element\n",
    "\n",
    "print(f\"List: {my_list}\")\n",
    "print(f\"First element: {first_element}\")\n",
    "print(f\"Third element: {third_element}\")\n",
    "print(f\"Last element: {last_element}\")"
   ]
  },
  {
   "cell_type": "markdown",
   "id": "3f6f73c8",
   "metadata": {},
   "source": [
    "## TUPLE"
   ]
  },
  {
   "cell_type": "code",
   "execution_count": 3,
   "id": "bfca8da0",
   "metadata": {},
   "outputs": [
    {
     "name": "stdout",
     "output_type": "stream",
     "text": [
      "Tuple: ('apple', 'banana', 'cherry', 'date', 'elderberry')\n",
      "First element: apple\n",
      "Third element: cherry\n",
      "Last element: elderberry\n"
     ]
    }
   ],
   "source": [
    "# Creating a tuple with 5 elements\n",
    "my_tuple = (\"apple\", \"banana\", \"cherry\", \"date\", \"elderberry\")\n",
    "\n",
    "# Accessing elements based on index\n",
    "first_element_tuple = my_tuple[0]  # First element\n",
    "third_element_tuple = my_tuple[2]  # Third element\n",
    "last_element_tuple = my_tuple[-1]  # Last element\n",
    "\n",
    "print(f\"Tuple: {my_tuple}\")\n",
    "print(f\"First element: {first_element_tuple}\")\n",
    "print(f\"Third element: {third_element_tuple}\")\n",
    "print(f\"Last element: {last_element_tuple}\")"
   ]
  },
  {
   "cell_type": "markdown",
   "id": "2ff16668",
   "metadata": {},
   "source": [
    "## DICTIONARY"
   ]
  },
  {
   "cell_type": "code",
   "execution_count": 4,
   "id": "366d7676",
   "metadata": {},
   "outputs": [
    {
     "name": "stdout",
     "output_type": "stream",
     "text": [
      "Dictionary: {'name': 'Alice', 'age': 25, 'city': 'New York', 'job': 'Engineer', 'hobby': 'Reading'}\n",
      "Name: Alice\n",
      "City: New York\n",
      "Hobby: Reading\n"
     ]
    }
   ],
   "source": [
    "# Creating a dictionary with 5 key-value pairs\n",
    "my_dict = {\n",
    "    \"name\": \"Alice\",\n",
    "    \"age\": 25,\n",
    "    \"city\": \"New York\",\n",
    "    \"job\": \"Engineer\",\n",
    "    \"hobby\": \"Reading\"\n",
    "}\n",
    "\n",
    "# Accessing elements based on key\n",
    "name = my_dict[\"name\"]\n",
    "city = my_dict[\"city\"]\n",
    "hobby = my_dict[\"hobby\"]\n",
    "\n",
    "print(f\"Dictionary: {my_dict}\")\n",
    "print(f\"Name: {name}\")\n",
    "print(f\"City: {city}\")\n",
    "print(f\"Hobby: {hobby}\")\n"
   ]
  },
  {
   "cell_type": "code",
   "execution_count": null,
   "id": "c7121e57",
   "metadata": {},
   "outputs": [],
   "source": []
  }
 ],
 "metadata": {
  "kernelspec": {
   "display_name": "Python 3 (ipykernel)",
   "language": "python",
   "name": "python3"
  },
  "language_info": {
   "codemirror_mode": {
    "name": "ipython",
    "version": 3
   },
   "file_extension": ".py",
   "mimetype": "text/x-python",
   "name": "python",
   "nbconvert_exporter": "python",
   "pygments_lexer": "ipython3",
   "version": "3.11.4"
  }
 },
 "nbformat": 4,
 "nbformat_minor": 5
}
