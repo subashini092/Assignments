{
 "cells": [
  {
   "cell_type": "markdown",
   "id": "f4c26901",
   "metadata": {},
   "source": [
    "### Coding Questions\n",
    "1. Jupyter Notebook and Data Types\n",
    "Write a program in Jupyter Notebook to declare variables of different data types (integer, float, string, and boolean). Print each variable and its type.\n"
   ]
  },
  {
   "cell_type": "code",
   "execution_count": 2,
   "id": "0b129506",
   "metadata": {
    "scrolled": true
   },
   "outputs": [
    {
     "name": "stdout",
     "output_type": "stream",
     "text": [
      "Variable Types and Values:\n",
      "Integer: 42 (Type: <class 'int'>)\n",
      "Float: 3.14 (Type: <class 'float'>)\n",
      "String: Hello, Jupyter Notebook! (Type: <class 'str'>)\n",
      "Boolean: True (Type: <class 'bool'>)\n",
      "\n",
      "Basic Operations:\n",
      "Sum of integer_var and 10: 52\n",
      "Product of float_var and 2: 6.28\n",
      "Uppercase string_var: HELLO, JUPYTER NOTEBOOK!\n",
      "Negation of boolean_var: False\n",
      "\n",
      "Combined Result:\n",
      "The integer is 42, the float is 3.14, and the string says 'Hello, Jupyter Notebook!'.\n",
      "\n",
      "Conditional Statement:\n",
      "The boolean variable is True.\n"
     ]
    }
   ],
   "source": [
    "# Jupyter Notebook\n",
    "\n",
    "# Declare variables of different data types\n",
    "integer_var = 42\n",
    "float_var = 3.14\n",
    "string_var = \"Hello, Jupyter Notebook!\"\n",
    "boolean_var = True\n",
    "\n",
    "# Print each variable and its type\n",
    "print(\"Variable Types and Values:\")\n",
    "print(f\"Integer: {integer_var} (Type: {type(integer_var)})\")\n",
    "print(f\"Float: {float_var} (Type: {type(float_var)})\")\n",
    "print(f\"String: {string_var} (Type: {type(string_var)})\")\n",
    "print(f\"Boolean: {boolean_var} (Type: {type(boolean_var)})\")\n",
    "\n",
    "# Perform some basic operations with these variables\n",
    "print(\"\\nBasic Operations:\")\n",
    "\n",
    "# Integer operations\n",
    "sum_integer = integer_var + 10\n",
    "print(f\"Sum of integer_var and 10: {sum_integer}\")\n",
    "\n",
    "# Float operations\n",
    "product_float = float_var * 2\n",
    "print(f\"Product of float_var and 2: {product_float}\")\n",
    "\n",
    "# String operations\n",
    "uppercase_string = string_var.upper()\n",
    "print(f\"Uppercase string_var: {uppercase_string}\")\n",
    "\n",
    "# Boolean operations\n",
    "negation_boolean = not boolean_var\n",
    "print(f\"Negation of boolean_var: {negation_boolean}\")\n",
    "\n",
    "# Combining variables of different types\n",
    "combined_result = f\"The integer is {integer_var}, the float is {float_var}, and the string says '{string_var}'.\"\n",
    "print(f\"\\nCombined Result:\\n{combined_result}\")\n",
    "\n",
    "# Conditional statements using boolean_var\n",
    "print(\"\\nConditional Statement:\")\n",
    "if boolean_var:\n",
    "    print(\"The boolean variable is True.\")\n",
    "else:\n",
    "    print(\"The boolean variable is False.\")\n"
   ]
  },
  {
   "cell_type": "markdown",
   "id": "64b08c9f",
   "metadata": {},
   "source": [
    "## DAY-2"
   ]
  },
  {
   "cell_type": "markdown",
   "id": "174ffbee",
   "metadata": {},
   "source": [
    "#QNO:Create a List, tuple and Dictionary with 5 elements in it and how to access few elements based on the index. Try with different examples"
   ]
  },
  {
   "cell_type": "markdown",
   "id": "bfb1df03",
   "metadata": {},
   "source": [
    "##LIST"
   ]
  },
  {
   "cell_type": "code",
   "execution_count": 1,
   "id": "71ef45f9",
   "metadata": {},
   "outputs": [
    {
     "name": "stdout",
     "output_type": "stream",
     "text": [
      "List: [10, 20, 30, 40, 50]\n",
      "First element: 10\n",
      "Third element: 30\n",
      "Last element: 50\n"
     ]
    }
   ],
   "source": [
    "# Creating a list with 5 elements\n",
    "my_list = [10, 20, 30, 40, 50]\n",
    "\n",
    "# Accessing elements based on index\n",
    "first_element = my_list[0]  # First element\n",
    "third_element = my_list[2]  # Third element\n",
    "last_element = my_list[-1]  # Last element\n",
    "\n",
    "print(f\"List: {my_list}\")\n",
    "print(f\"First element: {first_element}\")\n",
    "print(f\"Third element: {third_element}\")\n",
    "print(f\"Last element: {last_element}\")"
   ]
  },
  {
   "cell_type": "markdown",
   "id": "3f6f73c8",
   "metadata": {},
   "source": [
    "## TUPLE"
   ]
  },
  {
   "cell_type": "code",
   "execution_count": 3,
   "id": "bfca8da0",
   "metadata": {},
   "outputs": [
    {
     "name": "stdout",
     "output_type": "stream",
     "text": [
      "Tuple: ('apple', 'banana', 'cherry', 'date', 'elderberry')\n",
      "First element: apple\n",
      "Third element: cherry\n",
      "Last element: elderberry\n"
     ]
    }
   ],
   "source": [
    "# Creating a tuple with 5 elements\n",
    "my_tuple = (\"apple\", \"banana\", \"cherry\", \"date\", \"elderberry\")\n",
    "\n",
    "# Accessing elements based on index\n",
    "first_element_tuple = my_tuple[0]  # First element\n",
    "third_element_tuple = my_tuple[2]  # Third element\n",
    "last_element_tuple = my_tuple[-1]  # Last element\n",
    "\n",
    "print(f\"Tuple: {my_tuple}\")\n",
    "print(f\"First element: {first_element_tuple}\")\n",
    "print(f\"Third element: {third_element_tuple}\")\n",
    "print(f\"Last element: {last_element_tuple}\")"
   ]
  },
  {
   "cell_type": "markdown",
   "id": "2ff16668",
   "metadata": {},
   "source": [
    "## DICTIONARY"
   ]
  },
  {
   "cell_type": "code",
   "execution_count": 4,
   "id": "366d7676",
   "metadata": {},
   "outputs": [
    {
     "name": "stdout",
     "output_type": "stream",
     "text": [
      "Dictionary: {'name': 'Alice', 'age': 25, 'city': 'New York', 'job': 'Engineer', 'hobby': 'Reading'}\n",
      "Name: Alice\n",
      "City: New York\n",
      "Hobby: Reading\n"
     ]
    }
   ],
   "source": [
    "# Creating a dictionary with 5 key-value pairs\n",
    "my_dict = {\n",
    "    \"name\": \"Alice\",\n",
    "    \"age\": 25,\n",
    "    \"city\": \"New York\",\n",
    "    \"job\": \"Engineer\",\n",
    "    \"hobby\": \"Reading\"\n",
    "}\n",
    "\n",
    "# Accessing elements based on key\n",
    "name = my_dict[\"name\"]\n",
    "city = my_dict[\"city\"]\n",
    "hobby = my_dict[\"hobby\"]\n",
    "\n",
    "print(f\"Dictionary: {my_dict}\")\n",
    "print(f\"Name: {name}\")\n",
    "print(f\"City: {city}\")\n",
    "print(f\"Hobby: {hobby}\")\n"
   ]
  },
  {
   "cell_type": "markdown",
   "id": "d3a955cb",
   "metadata": {},
   "source": [
    "## DAY-3"
   ]
  },
  {
   "cell_type": "markdown",
   "id": "5e758cd7",
   "metadata": {},
   "source": [
    "## QNO:Write a Python program that takes a student's marks in three subjects as input.\n",
    "If the average is greater than or equal to 90, print \"Grade: A\".\n",
    "If the average is between 80 and 89, print \"Grade: B\".\n",
    "If the average is between 70 and 79, print \"Grade: C\".\n",
    "Otherwise, print \"Grade: Fail\".\n"
   ]
  },
  {
   "cell_type": "code",
   "execution_count": 2,
   "id": "9a7deb65",
   "metadata": {},
   "outputs": [
    {
     "name": "stdout",
     "output_type": "stream",
     "text": [
      "Enter marks for subject 1: 75\n",
      "Enter marks for subject 2: 80\n",
      "Enter marks for subject 3: 97\n",
      "Grade: B\n"
     ]
    }
   ],
   "source": [
    "# Function to calculate the grade based on average marks\n",
    "def calculate_grade(marks):\n",
    "    average = sum(marks) / len(marks)\n",
    "    \n",
    "    if average >= 90:\n",
    "        grade = \"A\"\n",
    "    elif 80 <= average < 90:\n",
    "        grade = \"B\"\n",
    "    elif 70 <= average < 80:\n",
    "        grade = \"C\"\n",
    "    else:\n",
    "        grade = \"Fail\"\n",
    "    \n",
    "    return grade\n",
    "\n",
    "# Input marks for three subjects\n",
    "marks = []\n",
    "for i in range(1, 4):\n",
    "    mark = float(input(f\"Enter marks for subject {i}: \"))\n",
    "    marks.append(mark)\n",
    "\n",
    "# Calculate and print the grade\n",
    "grade = calculate_grade(marks)\n",
    "print(f\"Grade: {grade}\")\n"
   ]
  },
  {
   "cell_type": "markdown",
   "id": "fbabb3c1",
   "metadata": {},
   "source": [
    "##DAY-4"
   ]
  },
  {
   "cell_type": "markdown",
   "id": "9a04c89b",
   "metadata": {},
   "source": [
    "## QNO:4 Write a Python program to calculate the sum of all even numbers between 1 and a given positive integer n\n"
   ]
  },
  {
   "cell_type": "code",
   "execution_count": 3,
   "id": "b3e3be6d",
   "metadata": {},
   "outputs": [
    {
     "name": "stdout",
     "output_type": "stream",
     "text": [
      "Welcome to the Even Number Sum Calculator!\n",
      "Enter a positive integer (or 'q' to quit): 6\n",
      "The sum of all even numbers between 1 and 6 is: 12\n",
      "Enter a positive integer (or 'q' to quit): 8\n",
      "The sum of all even numbers between 1 and 8 is: 20\n",
      "Enter a positive integer (or 'q' to quit): q\n",
      "Goodbye!\n"
     ]
    }
   ],
   "source": [
    "def is_even(number):\n",
    "    \"\"\"Check if a number is even.\"\"\"\n",
    "    return number % 2 == 0\n",
    "\n",
    "def sum_of_even_numbers(n):\n",
    "    \"\"\"Calculate the sum of all even numbers up to n.\"\"\"\n",
    "    total = 0\n",
    "    for number in range(2, n + 1, 2):\n",
    "        total += number\n",
    "    return total\n",
    "\n",
    "def validate_input(input_str):\n",
    "    \"\"\"Validate if the input is a positive integer.\"\"\"\n",
    "    try:\n",
    "        value = int(input_str)\n",
    "        if value <= 0:\n",
    "            raise ValueError\n",
    "        return value\n",
    "    except ValueError:\n",
    "        print(\"Invalid input. Please enter a positive integer.\")\n",
    "        return None\n",
    "\n",
    "def main():\n",
    "    \"\"\"Main program to interact with the user.\"\"\"\n",
    "    print(\"Welcome to the Even Number Sum Calculator!\")\n",
    "    while True:\n",
    "        user_input = input(\"Enter a positive integer (or 'q' to quit): \")\n",
    "        if user_input.lower() == 'q':\n",
    "            print(\"Goodbye!\")\n",
    "            break\n",
    "        n = validate_input(user_input)\n",
    "        if n:\n",
    "            sum_even = sum_of_even_numbers(n)\n",
    "            print(f\"The sum of all even numbers between 1 and {n} is: {sum_even}\")\n",
    "\n",
    "if __name__ == \"__main__\":\n",
    "    main()\n"
   ]
  },
  {
   "cell_type": "markdown",
   "id": "6bd47e37",
   "metadata": {},
   "source": [
    "## DAY-5"
   ]
  },
  {
   "cell_type": "markdown",
   "id": "4bf2d8bb",
   "metadata": {},
   "source": [
    "1. Write a Python program to calculate the frequency of each word in a given text. Print the\n",
    "words and their corresponding counts"
   ]
  },
  {
   "cell_type": "code",
   "execution_count": 2,
   "id": "bc1bb7d6",
   "metadata": {},
   "outputs": [
    {
     "name": "stdout",
     "output_type": "stream",
     "text": [
      "Enter the text: HELLO HOW ARE YOU !!!\n",
      "\n",
      "Word Frequency:\n",
      "hello: 1\n",
      "how: 1\n",
      "are: 1\n",
      "you: 1\n"
     ]
    }
   ],
   "source": [
    "from collections import defaultdict\n",
    "\n",
    "def count_word_frequency(text):\n",
    "    # Convert the text to lowercase to ensure case-insensitivity\n",
    "    text = text.lower()\n",
    "    \n",
    "    # Remove punctuation from the text\n",
    "    punctuations = \".,!?:;\\\"'()-\"\n",
    "    for char in punctuations:\n",
    "        text = text.replace(char, \"\")\n",
    "    \n",
    "    # Split the text into words\n",
    "    words = text.split()\n",
    "    \n",
    "    # Create a dictionary to store the frequency of each word\n",
    "    word_frequency = defaultdict(int)\n",
    "    \n",
    "    # Count the frequency of each word\n",
    "    for word in words:\n",
    "        word_frequency[word] += 1\n",
    "    \n",
    "    return word_frequency\n",
    "\n",
    "# Input text\n",
    "text = input(\"Enter the text: \")\n",
    "\n",
    "# Calculate word frequency\n",
    "word_frequency = count_word_frequency(text)\n",
    "\n",
    "# Print the words and their corresponding counts\n",
    "print(\"\\nWord Frequency:\")\n",
    "for word, count in word_frequency.items():\n",
    "    print(f\"{word}: {count}\")\n"
   ]
  },
  {
   "cell_type": "markdown",
   "id": "7f34a01c",
   "metadata": {},
   "source": [
    "## DAY-6"
   ]
  },
  {
   "cell_type": "markdown",
   "id": "1ae0dc49",
   "metadata": {},
   "source": [
    "## Write a Python program to using NLTK and Spacy\n",
    "Convert text to lowercase.\n",
    "Remove stopwords using NLTK\n"
   ]
  },
  {
   "cell_type": "code",
   "execution_count": 7,
   "id": "7c036794",
   "metadata": {},
   "outputs": [
    {
     "name": "stdout",
     "output_type": "stream",
     "text": [
      "Note: you may need to restart the kernel to use updated packages.Defaulting to user installation because normal site-packages is not writeable\n",
      "Requirement already satisfied: nltk in c:\\programdata\\anaconda3\\lib\\site-packages (3.8.1)\n",
      "Requirement already satisfied: spacy in c:\\users\\subhashini\\appdata\\roaming\\python\\python311\\site-packages (3.8.3)\n",
      "Requirement already satisfied: click in c:\\programdata\\anaconda3\\lib\\site-packages (from nltk) (8.0.4)\n",
      "Requirement already satisfied: joblib in c:\\programdata\\anaconda3\\lib\\site-packages (from nltk) (1.2.0)\n",
      "Requirement already satisfied: regex>=2021.8.3 in c:\\programdata\\anaconda3\\lib\\site-packages (from nltk) (2022.7.9)\n",
      "Requirement already satisfied: tqdm in c:\\programdata\\anaconda3\\lib\\site-packages (from nltk) (4.65.0)\n",
      "Requirement already satisfied: spacy-legacy<3.1.0,>=3.0.11 in c:\\users\\subhashini\\appdata\\roaming\\python\\python311\\site-packages (from spacy) (3.0.12)\n",
      "Requirement already satisfied: spacy-loggers<2.0.0,>=1.0.0 in c:\\users\\subhashini\\appdata\\roaming\\python\\python311\\site-packages (from spacy) (1.0.5)\n",
      "Requirement already satisfied: murmurhash<1.1.0,>=0.28.0 in c:\\users\\subhashini\\appdata\\roaming\\python\\python311\\site-packages (from spacy) (1.0.11)\n",
      "Requirement already satisfied: cymem<2.1.0,>=2.0.2 in c:\\users\\subhashini\\appdata\\roaming\\python\\python311\\site-packages (from spacy) (2.0.10)\n",
      "Requirement already satisfied: preshed<3.1.0,>=3.0.2 in c:\\users\\subhashini\\appdata\\roaming\\python\\python311\\site-packages (from spacy) (3.0.9)\n",
      "Requirement already satisfied: thinc<8.4.0,>=8.3.0 in c:\\users\\subhashini\\appdata\\roaming\\python\\python311\\site-packages (from spacy) (8.3.3)\n",
      "Requirement already satisfied: wasabi<1.2.0,>=0.9.1 in c:\\users\\subhashini\\appdata\\roaming\\python\\python311\\site-packages (from spacy) (1.1.3)\n",
      "Requirement already satisfied: srsly<3.0.0,>=2.4.3 in c:\\users\\subhashini\\appdata\\roaming\\python\\python311\\site-packages (from spacy) (2.5.0)\n",
      "Requirement already satisfied: catalogue<2.1.0,>=2.0.6 in c:\\users\\subhashini\\appdata\\roaming\\python\\python311\\site-packages (from spacy) (2.0.10)\n",
      "Requirement already satisfied: weasel<0.5.0,>=0.1.0 in c:\\users\\subhashini\\appdata\\roaming\\python\\python311\\site-packages (from spacy) (0.4.1)\n",
      "Requirement already satisfied: typer<1.0.0,>=0.3.0 in c:\\users\\subhashini\\appdata\\roaming\\python\\python311\\site-packages (from spacy) (0.15.1)\n",
      "Requirement already satisfied: numpy>=1.19.0 in c:\\programdata\\anaconda3\\lib\\site-packages (from spacy) (1.24.3)\n",
      "Requirement already satisfied: requests<3.0.0,>=2.13.0 in c:\\programdata\\anaconda3\\lib\\site-packages (from spacy) (2.31.0)\n",
      "Requirement already satisfied: pydantic!=1.8,!=1.8.1,<3.0.0,>=1.7.4 in c:\\users\\subhashini\\appdata\\roaming\\python\\python311\\site-packages (from spacy) (2.10.4)\n",
      "Requirement already satisfied: jinja2 in c:\\programdata\\anaconda3\\lib\\site-packages (from spacy) (3.1.2)\n",
      "Requirement already satisfied: setuptools in c:\\programdata\\anaconda3\\lib\\site-packages (from spacy) (68.0.0)\n",
      "Requirement already satisfied: packaging>=20.0 in c:\\programdata\\anaconda3\\lib\\site-packages (from spacy) (23.0)\n",
      "Requirement already satisfied: langcodes<4.0.0,>=3.2.0 in c:\\users\\subhashini\\appdata\\roaming\\python\\python311\\site-packages (from spacy) (3.5.0)\n",
      "Requirement already satisfied: language-data>=1.2 in c:\\users\\subhashini\\appdata\\roaming\\python\\python311\\site-packages (from langcodes<4.0.0,>=3.2.0->spacy) (1.3.0)\n",
      "Requirement already satisfied: annotated-types>=0.6.0 in c:\\users\\subhashini\\appdata\\roaming\\python\\python311\\site-packages (from pydantic!=1.8,!=1.8.1,<3.0.0,>=1.7.4->spacy) (0.7.0)\n",
      "Requirement already satisfied: pydantic-core==2.27.2 in c:\\users\\subhashini\\appdata\\roaming\\python\\python311\\site-packages (from pydantic!=1.8,!=1.8.1,<3.0.0,>=1.7.4->spacy) (2.27.2)\n",
      "Requirement already satisfied: typing-extensions>=4.12.2 in c:\\users\\subhashini\\appdata\\roaming\\python\\python311\\site-packages (from pydantic!=1.8,!=1.8.1,<3.0.0,>=1.7.4->spacy) (4.12.2)\n",
      "Requirement already satisfied: charset-normalizer<4,>=2 in c:\\programdata\\anaconda3\\lib\\site-packages (from requests<3.0.0,>=2.13.0->spacy) (2.0.4)\n",
      "Requirement already satisfied: idna<4,>=2.5 in c:\\programdata\\anaconda3\\lib\\site-packages (from requests<3.0.0,>=2.13.0->spacy) (3.4)\n",
      "Requirement already satisfied: urllib3<3,>=1.21.1 in c:\\programdata\\anaconda3\\lib\\site-packages (from requests<3.0.0,>=2.13.0->spacy) (1.26.16)\n",
      "Requirement already satisfied: certifi>=2017.4.17 in c:\\programdata\\anaconda3\\lib\\site-packages (from requests<3.0.0,>=2.13.0->spacy) (2023.7.22)\n",
      "Requirement already satisfied: blis<1.2.0,>=1.1.0 in c:\\users\\subhashini\\appdata\\roaming\\python\\python311\\site-packages (from thinc<8.4.0,>=8.3.0->spacy) (1.1.0)\n",
      "Requirement already satisfied: confection<1.0.0,>=0.0.1 in c:\\users\\subhashini\\appdata\\roaming\\python\\python311\\site-packages (from thinc<8.4.0,>=8.3.0->spacy) (0.1.5)\n",
      "Requirement already satisfied: colorama in c:\\programdata\\anaconda3\\lib\\site-packages (from tqdm->nltk) (0.4.6)\n",
      "Requirement already satisfied: shellingham>=1.3.0 in c:\\users\\subhashini\\appdata\\roaming\\python\\python311\\site-packages (from typer<1.0.0,>=0.3.0->spacy) (1.5.4)\n",
      "Requirement already satisfied: rich>=10.11.0 in c:\\users\\subhashini\\appdata\\roaming\\python\\python311\\site-packages (from typer<1.0.0,>=0.3.0->spacy) (13.9.2)\n",
      "Requirement already satisfied: cloudpathlib<1.0.0,>=0.7.0 in c:\\users\\subhashini\\appdata\\roaming\\python\\python311\\site-packages (from weasel<0.5.0,>=0.1.0->spacy) (0.20.0)\n",
      "Requirement already satisfied: smart-open<8.0.0,>=5.2.1 in c:\\programdata\\anaconda3\\lib\\site-packages (from weasel<0.5.0,>=0.1.0->spacy) (5.2.1)\n",
      "Requirement already satisfied: MarkupSafe>=2.0 in c:\\programdata\\anaconda3\\lib\\site-packages (from jinja2->spacy) (2.1.1)\n",
      "Requirement already satisfied: marisa-trie>=1.1.0 in c:\\users\\subhashini\\appdata\\roaming\\python\\python311\\site-packages (from language-data>=1.2->langcodes<4.0.0,>=3.2.0->spacy) (1.2.1)\n",
      "Requirement already satisfied: markdown-it-py>=2.2.0 in c:\\programdata\\anaconda3\\lib\\site-packages (from rich>=10.11.0->typer<1.0.0,>=0.3.0->spacy) (2.2.0)\n",
      "Requirement already satisfied: pygments<3.0.0,>=2.13.0 in c:\\programdata\\anaconda3\\lib\\site-packages (from rich>=10.11.0->typer<1.0.0,>=0.3.0->spacy) (2.15.1)\n",
      "Requirement already satisfied: mdurl~=0.1 in c:\\programdata\\anaconda3\\lib\\site-packages (from markdown-it-py>=2.2.0->rich>=10.11.0->typer<1.0.0,>=0.3.0->spacy) (0.1.0)\n",
      "\n"
     ]
    },
    {
     "name": "stderr",
     "output_type": "stream",
     "text": [
      "DEPRECATION: Loading egg at c:\\programdata\\anaconda3\\lib\\site-packages\\vboxapi-1.0-py3.11.egg is deprecated. pip 23.3 will enforce this behaviour change. A possible replacement is to use pip for package installation..\n"
     ]
    }
   ],
   "source": [
    "pip install nltk spacy\n"
   ]
  },
  {
   "cell_type": "code",
   "execution_count": 6,
   "id": "0233d030",
   "metadata": {},
   "outputs": [
    {
     "name": "stdout",
     "output_type": "stream",
     "text": [
      "Defaulting to user installation because normal site-packages is not writeable\n",
      "Requirement already satisfied: nltk in c:\\programdata\\anaconda3\\lib\\site-packages (3.8.1)\n",
      "Requirement already satisfied: spacy in c:\\users\\subhashini\\appdata\\roaming\\python\\python311\\site-packages (3.8.3)\n",
      "Requirement already satisfied: click in c:\\programdata\\anaconda3\\lib\\site-packages (from nltk) (8.0.4)\n",
      "Requirement already satisfied: joblib in c:\\programdata\\anaconda3\\lib\\site-packages (from nltk) (1.2.0)\n",
      "Requirement already satisfied: regex>=2021.8.3 in c:\\programdata\\anaconda3\\lib\\site-packages (from nltk) (2022.7.9)\n",
      "Requirement already satisfied: tqdm in c:\\programdata\\anaconda3\\lib\\site-packages (from nltk) (4.65.0)\n",
      "Requirement already satisfied: spacy-legacy<3.1.0,>=3.0.11 in c:\\users\\subhashini\\appdata\\roaming\\python\\python311\\site-packages (from spacy) (3.0.12)\n",
      "Requirement already satisfied: spacy-loggers<2.0.0,>=1.0.0 in c:\\users\\subhashini\\appdata\\roaming\\python\\python311\\site-packages (from spacy) (1.0.5)\n",
      "Requirement already satisfied: murmurhash<1.1.0,>=0.28.0 in c:\\users\\subhashini\\appdata\\roaming\\python\\python311\\site-packages (from spacy) (1.0.11)\n",
      "Requirement already satisfied: cymem<2.1.0,>=2.0.2 in c:\\users\\subhashini\\appdata\\roaming\\python\\python311\\site-packages (from spacy) (2.0.10)\n",
      "Requirement already satisfied: preshed<3.1.0,>=3.0.2 in c:\\users\\subhashini\\appdata\\roaming\\python\\python311\\site-packages (from spacy) (3.0.9)\n",
      "Requirement already satisfied: thinc<8.4.0,>=8.3.0 in c:\\users\\subhashini\\appdata\\roaming\\python\\python311\\site-packages (from spacy) (8.3.3)\n",
      "Requirement already satisfied: wasabi<1.2.0,>=0.9.1 in c:\\users\\subhashini\\appdata\\roaming\\python\\python311\\site-packages (from spacy) (1.1.3)\n",
      "Requirement already satisfied: srsly<3.0.0,>=2.4.3 in c:\\users\\subhashini\\appdata\\roaming\\python\\python311\\site-packages (from spacy) (2.5.0)\n",
      "Requirement already satisfied: catalogue<2.1.0,>=2.0.6 in c:\\users\\subhashini\\appdata\\roaming\\python\\python311\\site-packages (from spacy) (2.0.10)\n",
      "Requirement already satisfied: weasel<0.5.0,>=0.1.0 in c:\\users\\subhashini\\appdata\\roaming\\python\\python311\\site-packages (from spacy) (0.4.1)\n",
      "Requirement already satisfied: typer<1.0.0,>=0.3.0 in c:\\users\\subhashini\\appdata\\roaming\\python\\python311\\site-packages (from spacy) (0.15.1)\n",
      "Requirement already satisfied: numpy>=1.19.0 in c:\\programdata\\anaconda3\\lib\\site-packages (from spacy) (1.24.3)\n",
      "Requirement already satisfied: requests<3.0.0,>=2.13.0 in c:\\programdata\\anaconda3\\lib\\site-packages (from spacy) (2.31.0)\n",
      "Requirement already satisfied: pydantic!=1.8,!=1.8.1,<3.0.0,>=1.7.4 in c:\\users\\subhashini\\appdata\\roaming\\python\\python311\\site-packages (from spacy) (2.10.4)\n",
      "Requirement already satisfied: jinja2 in c:\\programdata\\anaconda3\\lib\\site-packages (from spacy) (3.1.2)\n",
      "Requirement already satisfied: setuptools in c:\\programdata\\anaconda3\\lib\\site-packages (from spacy) (68.0.0)\n",
      "Requirement already satisfied: packaging>=20.0 in c:\\programdata\\anaconda3\\lib\\site-packages (from spacy) (23.0)\n",
      "Requirement already satisfied: langcodes<4.0.0,>=3.2.0 in c:\\users\\subhashini\\appdata\\roaming\\python\\python311\\site-packages (from spacy) (3.5.0)\n",
      "Requirement already satisfied: language-data>=1.2 in c:\\users\\subhashini\\appdata\\roaming\\python\\python311\\site-packages (from langcodes<4.0.0,>=3.2.0->spacy) (1.3.0)\n",
      "Requirement already satisfied: annotated-types>=0.6.0 in c:\\users\\subhashini\\appdata\\roaming\\python\\python311\\site-packages (from pydantic!=1.8,!=1.8.1,<3.0.0,>=1.7.4->spacy) (0.7.0)\n",
      "Requirement already satisfied: pydantic-core==2.27.2 in c:\\users\\subhashini\\appdata\\roaming\\python\\python311\\site-packages (from pydantic!=1.8,!=1.8.1,<3.0.0,>=1.7.4->spacy) (2.27.2)\n",
      "Requirement already satisfied: typing-extensions>=4.12.2 in c:\\users\\subhashini\\appdata\\roaming\\python\\python311\\site-packages (from pydantic!=1.8,!=1.8.1,<3.0.0,>=1.7.4->spacy) (4.12.2)\n",
      "Requirement already satisfied: charset-normalizer<4,>=2 in c:\\programdata\\anaconda3\\lib\\site-packages (from requests<3.0.0,>=2.13.0->spacy) (2.0.4)\n",
      "Requirement already satisfied: idna<4,>=2.5 in c:\\programdata\\anaconda3\\lib\\site-packages (from requests<3.0.0,>=2.13.0->spacy) (3.4)\n",
      "Requirement already satisfied: urllib3<3,>=1.21.1 in c:\\programdata\\anaconda3\\lib\\site-packages (from requests<3.0.0,>=2.13.0->spacy) (1.26.16)\n",
      "Requirement already satisfied: certifi>=2017.4.17 in c:\\programdata\\anaconda3\\lib\\site-packages (from requests<3.0.0,>=2.13.0->spacy) (2023.7.22)\n",
      "Requirement already satisfied: blis<1.2.0,>=1.1.0 in c:\\users\\subhashini\\appdata\\roaming\\python\\python311\\site-packages (from thinc<8.4.0,>=8.3.0->spacy) (1.1.0)\n",
      "Requirement already satisfied: confection<1.0.0,>=0.0.1 in c:\\users\\subhashini\\appdata\\roaming\\python\\python311\\site-packages (from thinc<8.4.0,>=8.3.0->spacy) (0.1.5)\n",
      "Requirement already satisfied: colorama in c:\\programdata\\anaconda3\\lib\\site-packages (from tqdm->nltk) (0.4.6)\n",
      "Requirement already satisfied: shellingham>=1.3.0 in c:\\users\\subhashini\\appdata\\roaming\\python\\python311\\site-packages (from typer<1.0.0,>=0.3.0->spacy) (1.5.4)\n",
      "Requirement already satisfied: rich>=10.11.0 in c:\\users\\subhashini\\appdata\\roaming\\python\\python311\\site-packages (from typer<1.0.0,>=0.3.0->spacy) (13.9.2)\n",
      "Requirement already satisfied: cloudpathlib<1.0.0,>=0.7.0 in c:\\users\\subhashini\\appdata\\roaming\\python\\python311\\site-packages (from weasel<0.5.0,>=0.1.0->spacy) (0.20.0)\n",
      "Requirement already satisfied: smart-open<8.0.0,>=5.2.1 in c:\\programdata\\anaconda3\\lib\\site-packages (from weasel<0.5.0,>=0.1.0->spacy) (5.2.1)\n",
      "Requirement already satisfied: MarkupSafe>=2.0 in c:\\programdata\\anaconda3\\lib\\site-packages (from jinja2->spacy) (2.1.1)\n",
      "Requirement already satisfied: marisa-trie>=1.1.0 in c:\\users\\subhashini\\appdata\\roaming\\python\\python311\\site-packages (from language-data>=1.2->langcodes<4.0.0,>=3.2.0->spacy) (1.2.1)\n",
      "Requirement already satisfied: markdown-it-py>=2.2.0 in c:\\programdata\\anaconda3\\lib\\site-packages (from rich>=10.11.0->typer<1.0.0,>=0.3.0->spacy) (2.2.0)\n",
      "Requirement already satisfied: pygments<3.0.0,>=2.13.0 in c:\\programdata\\anaconda3\\lib\\site-packages (from rich>=10.11.0->typer<1.0.0,>=0.3.0->spacy) (2.15.1)\n",
      "Requirement already satisfied: mdurl~=0.1 in c:\\programdata\\anaconda3\\lib\\site-packages (from markdown-it-py>=2.2.0->rich>=10.11.0->typer<1.0.0,>=0.3.0->spacy) (0.1.0)\n"
     ]
    },
    {
     "name": "stderr",
     "output_type": "stream",
     "text": [
      "DEPRECATION: Loading egg at c:\\programdata\\anaconda3\\lib\\site-packages\\vboxapi-1.0-py3.11.egg is deprecated. pip 23.3 will enforce this behaviour change. A possible replacement is to use pip for package installation..\n"
     ]
    },
    {
     "name": "stdout",
     "output_type": "stream",
     "text": [
      "Defaulting to user installation because normal site-packages is not writeable\n",
      "Collecting en-core-web-sm==3.8.0\n",
      "  Downloading https://github.com/explosion/spacy-models/releases/download/en_core_web_sm-3.8.0/en_core_web_sm-3.8.0-py3-none-any.whl (12.8 MB)\n",
      "     ---------------------------------------- 0.0/12.8 MB ? eta -:--:--\n",
      "     ---------------------------------------- 0.0/12.8 MB ? eta -:--:--\n",
      "     ---------------------------------------- 0.1/12.8 MB 1.7 MB/s eta 0:00:08\n",
      "     - -------------------------------------- 0.4/12.8 MB 3.2 MB/s eta 0:00:04\n",
      "     - -------------------------------------- 0.5/12.8 MB 3.3 MB/s eta 0:00:04\n",
      "     -- ------------------------------------- 0.7/12.8 MB 3.4 MB/s eta 0:00:04\n",
      "     -- ------------------------------------- 0.8/12.8 MB 3.6 MB/s eta 0:00:04\n",
      "     --- ------------------------------------ 1.0/12.8 MB 3.6 MB/s eta 0:00:04\n",
      "     --- ------------------------------------ 1.2/12.8 MB 3.7 MB/s eta 0:00:04\n",
      "     ---- ----------------------------------- 1.3/12.8 MB 3.7 MB/s eta 0:00:04\n",
      "     ---- ----------------------------------- 1.4/12.8 MB 3.5 MB/s eta 0:00:04\n",
      "     ---- ----------------------------------- 1.6/12.8 MB 3.5 MB/s eta 0:00:04\n",
      "     ----- ---------------------------------- 1.8/12.8 MB 3.5 MB/s eta 0:00:04\n",
      "     ------ --------------------------------- 1.9/12.8 MB 3.5 MB/s eta 0:00:04\n",
      "     ------ --------------------------------- 2.1/12.8 MB 3.7 MB/s eta 0:00:03\n",
      "     ------- -------------------------------- 2.2/12.8 MB 3.6 MB/s eta 0:00:03\n",
      "     ------- -------------------------------- 2.4/12.8 MB 3.5 MB/s eta 0:00:03\n",
      "     ------- -------------------------------- 2.5/12.8 MB 3.4 MB/s eta 0:00:04\n",
      "     -------- ------------------------------- 2.7/12.8 MB 3.5 MB/s eta 0:00:03\n",
      "     -------- ------------------------------- 2.8/12.8 MB 3.5 MB/s eta 0:00:03\n",
      "     --------- ------------------------------ 3.0/12.8 MB 3.7 MB/s eta 0:00:03\n",
      "     ---------- ----------------------------- 3.2/12.8 MB 3.7 MB/s eta 0:00:03\n",
      "     ---------- ----------------------------- 3.4/12.8 MB 3.7 MB/s eta 0:00:03\n",
      "     ----------- ---------------------------- 3.5/12.8 MB 3.7 MB/s eta 0:00:03\n",
      "     ----------- ---------------------------- 3.7/12.8 MB 3.7 MB/s eta 0:00:03\n",
      "     ----------- ---------------------------- 3.8/12.8 MB 3.6 MB/s eta 0:00:03\n",
      "     ------------ --------------------------- 4.0/12.8 MB 3.7 MB/s eta 0:00:03\n",
      "     ------------- -------------------------- 4.2/12.8 MB 3.8 MB/s eta 0:00:03\n",
      "     -------------- ------------------------- 4.5/12.8 MB 3.8 MB/s eta 0:00:03\n",
      "     -------------- ------------------------- 4.7/12.8 MB 3.9 MB/s eta 0:00:03\n",
      "     --------------- ------------------------ 4.9/12.8 MB 3.9 MB/s eta 0:00:03\n",
      "     --------------- ------------------------ 5.1/12.8 MB 3.9 MB/s eta 0:00:02\n",
      "     ---------------- ----------------------- 5.3/12.8 MB 4.0 MB/s eta 0:00:02\n",
      "     ----------------- ---------------------- 5.5/12.8 MB 3.9 MB/s eta 0:00:02\n",
      "     ------------------ --------------------- 5.8/12.8 MB 4.0 MB/s eta 0:00:02\n",
      "     ------------------ --------------------- 6.0/12.8 MB 4.1 MB/s eta 0:00:02\n",
      "     ------------------- -------------------- 6.2/12.8 MB 4.1 MB/s eta 0:00:02\n",
      "     -------------------- ------------------- 6.4/12.8 MB 4.1 MB/s eta 0:00:02\n",
      "     -------------------- ------------------- 6.6/12.8 MB 4.2 MB/s eta 0:00:02\n",
      "     --------------------- ------------------ 6.8/12.8 MB 4.2 MB/s eta 0:00:02\n",
      "     ---------------------- ----------------- 7.0/12.8 MB 4.2 MB/s eta 0:00:02\n",
      "     ---------------------- ----------------- 7.2/12.8 MB 4.2 MB/s eta 0:00:02\n",
      "     ---------------------- ----------------- 7.3/12.8 MB 4.1 MB/s eta 0:00:02\n",
      "     ----------------------- ---------------- 7.5/12.8 MB 4.2 MB/s eta 0:00:02\n",
      "     ----------------------- ---------------- 7.6/12.8 MB 4.1 MB/s eta 0:00:02\n",
      "     ------------------------ --------------- 7.8/12.8 MB 4.1 MB/s eta 0:00:02\n",
      "     ------------------------- -------------- 8.1/12.8 MB 4.2 MB/s eta 0:00:02\n",
      "     -------------------------- ------------- 8.3/12.8 MB 4.2 MB/s eta 0:00:02\n",
      "     -------------------------- ------------- 8.6/12.8 MB 4.3 MB/s eta 0:00:01\n",
      "     --------------------------- ------------ 8.8/12.8 MB 4.3 MB/s eta 0:00:01\n",
      "     --------------------------- ------------ 8.9/12.8 MB 4.3 MB/s eta 0:00:01\n",
      "     ---------------------------- ----------- 9.0/12.8 MB 4.2 MB/s eta 0:00:01\n",
      "     ---------------------------- ----------- 9.1/12.8 MB 4.2 MB/s eta 0:00:01\n",
      "     ---------------------------- ----------- 9.3/12.8 MB 4.2 MB/s eta 0:00:01\n",
      "     ----------------------------- ---------- 9.4/12.8 MB 4.1 MB/s eta 0:00:01\n",
      "     ----------------------------- ---------- 9.6/12.8 MB 4.2 MB/s eta 0:00:01\n",
      "     ------------------------------ --------- 9.8/12.8 MB 4.2 MB/s eta 0:00:01\n",
      "     ------------------------------- -------- 10.1/12.8 MB 4.2 MB/s eta 0:00:01\n",
      "     -------------------------------- ------- 10.3/12.8 MB 4.3 MB/s eta 0:00:01\n",
      "     -------------------------------- ------- 10.4/12.8 MB 4.3 MB/s eta 0:00:01\n",
      "     --------------------------------- ------ 10.6/12.8 MB 4.3 MB/s eta 0:00:01\n",
      "     --------------------------------- ------ 10.8/12.8 MB 4.3 MB/s eta 0:00:01\n",
      "     --------------------------------- ------ 10.9/12.8 MB 4.3 MB/s eta 0:00:01\n",
      "     ---------------------------------- ----- 11.0/12.8 MB 4.3 MB/s eta 0:00:01\n",
      "     ----------------------------------- ---- 11.2/12.8 MB 4.2 MB/s eta 0:00:01\n",
      "     ----------------------------------- ---- 11.4/12.8 MB 4.3 MB/s eta 0:00:01\n",
      "     ------------------------------------ --- 11.6/12.8 MB 4.3 MB/s eta 0:00:01\n",
      "     ------------------------------------ --- 11.7/12.8 MB 4.3 MB/s eta 0:00:01\n",
      "     ------------------------------------ --- 11.8/12.8 MB 4.3 MB/s eta 0:00:01\n",
      "     ------------------------------------- -- 12.0/12.8 MB 4.3 MB/s eta 0:00:01\n",
      "     -------------------------------------- - 12.2/12.8 MB 4.3 MB/s eta 0:00:01\n",
      "     -------------------------------------- - 12.3/12.8 MB 4.3 MB/s eta 0:00:01\n",
      "     -------------------------------------- - 12.5/12.8 MB 4.3 MB/s eta 0:00:01\n",
      "     ---------------------------------------  12.6/12.8 MB 4.3 MB/s eta 0:00:01\n",
      "     ---------------------------------------  12.8/12.8 MB 4.3 MB/s eta 0:00:01\n",
      "     ---------------------------------------  12.8/12.8 MB 4.3 MB/s eta 0:00:01\n",
      "     ---------------------------------------- 12.8/12.8 MB 4.2 MB/s eta 0:00:00\n",
      "Installing collected packages: en-core-web-sm\n",
      "Successfully installed en-core-web-sm-3.8.0\n",
      "\u001b[38;5;2m[+] Download and installation successful\u001b[0m\n",
      "You can now load the package via spacy.load('en_core_web_sm')\n"
     ]
    },
    {
     "name": "stderr",
     "output_type": "stream",
     "text": [
      "DEPRECATION: Loading egg at c:\\programdata\\anaconda3\\lib\\site-packages\\vboxapi-1.0-py3.11.egg is deprecated. pip 23.3 will enforce this behaviour change. A possible replacement is to use pip for package installation..\n",
      "<frozen runpy>:128: RuntimeWarning: 'nltk.downloader' found in sys.modules after import of package 'nltk', but prior to execution of 'nltk.downloader'; this may result in unpredictable behaviour\n",
      "[nltk_data] Downloading package stopwords to\n",
      "[nltk_data]     C:\\Users\\Subhashini\\AppData\\Roaming\\nltk_data...\n",
      "[nltk_data]   Package stopwords is already up-to-date!\n"
     ]
    }
   ],
   "source": [
    "!pip install nltk spacy\n",
    "!python -m spacy download en_core_web_sm\n",
    "!python -m nltk.downloader stopwords\n"
   ]
  },
  {
   "cell_type": "code",
   "execution_count": 8,
   "id": "1e616256",
   "metadata": {},
   "outputs": [
    {
     "name": "stderr",
     "output_type": "stream",
     "text": [
      "[nltk_data] Downloading package stopwords to\n",
      "[nltk_data]     C:\\Users\\Subhashini\\AppData\\Roaming\\nltk_data...\n",
      "[nltk_data]   Package stopwords is already up-to-date!\n"
     ]
    },
    {
     "name": "stdout",
     "output_type": "stream",
     "text": [
      "Enter the text: NATURAL LANGUAGE PROCESSING\n",
      "\n",
      "Processed Text:\n",
      "natural language processing\n"
     ]
    }
   ],
   "source": [
    "import nltk\n",
    "from nltk.corpus import stopwords\n",
    "import spacy\n",
    "\n",
    "# Download required NLTK data files (run this once)\n",
    "nltk.download('stopwords')\n",
    "\n",
    "# Load the English stopwords from NLTK\n",
    "stop_words = set(stopwords.words('english'))\n",
    "\n",
    "# Load the spaCy model\n",
    "nlp = spacy.load('en_core_web_sm')\n",
    "\n",
    "def preprocess_text(text):\n",
    "    # Convert text to lowercase\n",
    "    text = text.lower()\n",
    "\n",
    "    # Tokenize text using spaCy\n",
    "    doc = nlp(text)\n",
    "\n",
    "    # Remove stopwords and perform lemmatization\n",
    "    processed_tokens = [token.lemma_ for token in doc if token.text not in stop_words and not token.is_punct]\n",
    "\n",
    "    return processed_tokens\n",
    "\n",
    "def main():\n",
    "    # Input text\n",
    "    text = input(\"Enter the text: \")\n",
    "\n",
    "    # Preprocess the text\n",
    "    processed_tokens = preprocess_text(text)\n",
    "\n",
    "    # Print the processed tokens\n",
    "    print(\"\\nProcessed Text:\")\n",
    "    print(\" \".join(processed_tokens))\n",
    "\n",
    "if __name__ == \"__main__\":\n",
    "    main()\n"
   ]
  },
  {
   "cell_type": "markdown",
   "id": "da924206",
   "metadata": {},
   "source": [
    "## DAY-7"
   ]
  },
  {
   "cell_type": "code",
   "execution_count": 1,
   "id": "d4697a48",
   "metadata": {},
   "outputs": [
    {
     "name": "stdout",
     "output_type": "stream",
     "text": [
      "Defaulting to user installation because normal site-packages is not writeable\n",
      "Requirement already satisfied: gensim in c:\\programdata\\anaconda3\\lib\\site-packages (4.3.0)\n",
      "Requirement already satisfied: nltk in c:\\programdata\\anaconda3\\lib\\site-packages (3.8.1)\n",
      "Requirement already satisfied: numpy>=1.18.5 in c:\\users\\subhashini\\appdata\\roaming\\python\\python311\\site-packages (from gensim) (1.24.4)\n",
      "Requirement already satisfied: scipy>=1.7.0 in c:\\programdata\\anaconda3\\lib\\site-packages (from gensim) (1.10.1)\n",
      "Requirement already satisfied: smart-open>=1.8.1 in c:\\programdata\\anaconda3\\lib\\site-packages (from gensim) (5.2.1)\n",
      "Requirement already satisfied: FuzzyTM>=0.4.0 in c:\\users\\subhashini\\appdata\\roaming\\python\\python311\\site-packages (from gensim) (2.0.9)\n",
      "Requirement already satisfied: click in c:\\programdata\\anaconda3\\lib\\site-packages (from nltk) (8.0.4)\n",
      "Requirement already satisfied: joblib in c:\\programdata\\anaconda3\\lib\\site-packages (from nltk) (1.2.0)\n",
      "Requirement already satisfied: regex>=2021.8.3 in c:\\programdata\\anaconda3\\lib\\site-packages (from nltk) (2022.7.9)\n",
      "Requirement already satisfied: tqdm in c:\\programdata\\anaconda3\\lib\\site-packages (from nltk) (4.65.0)\n",
      "Requirement already satisfied: pandas in c:\\programdata\\anaconda3\\lib\\site-packages (from FuzzyTM>=0.4.0->gensim) (1.5.3)\n",
      "Requirement already satisfied: pyfume in c:\\users\\subhashini\\appdata\\roaming\\python\\python311\\site-packages (from FuzzyTM>=0.4.0->gensim) (0.3.4)\n",
      "Requirement already satisfied: colorama in c:\\programdata\\anaconda3\\lib\\site-packages (from click->nltk) (0.4.6)\n",
      "Requirement already satisfied: python-dateutil>=2.8.1 in c:\\programdata\\anaconda3\\lib\\site-packages (from pandas->FuzzyTM>=0.4.0->gensim) (2.8.2)\n",
      "Requirement already satisfied: pytz>=2020.1 in c:\\programdata\\anaconda3\\lib\\site-packages (from pandas->FuzzyTM>=0.4.0->gensim) (2022.7)\n",
      "Requirement already satisfied: simpful==2.12.0 in c:\\users\\subhashini\\appdata\\roaming\\python\\python311\\site-packages (from pyfume->FuzzyTM>=0.4.0->gensim) (2.12.0)\n",
      "Requirement already satisfied: fst-pso==1.8.1 in c:\\users\\subhashini\\appdata\\roaming\\python\\python311\\site-packages (from pyfume->FuzzyTM>=0.4.0->gensim) (1.8.1)\n",
      "Requirement already satisfied: miniful in c:\\users\\subhashini\\appdata\\roaming\\python\\python311\\site-packages (from fst-pso==1.8.1->pyfume->FuzzyTM>=0.4.0->gensim) (0.0.6)\n",
      "Requirement already satisfied: six>=1.5 in c:\\programdata\\anaconda3\\lib\\site-packages (from python-dateutil>=2.8.1->pandas->FuzzyTM>=0.4.0->gensim) (1.16.0)\n",
      "Note: you may need to restart the kernel to use updated packages.\n"
     ]
    },
    {
     "name": "stderr",
     "output_type": "stream",
     "text": [
      "DEPRECATION: Loading egg at c:\\programdata\\anaconda3\\lib\\site-packages\\vboxapi-1.0-py3.11.egg is deprecated. pip 23.3 will enforce this behaviour change. A possible replacement is to use pip for package installation..\n"
     ]
    }
   ],
   "source": [
    "pip install gensim nltk\n"
   ]
  },
  {
   "cell_type": "code",
   "execution_count": 1,
   "id": "eb7b9b69",
   "metadata": {},
   "outputs": [
    {
     "name": "stderr",
     "output_type": "stream",
     "text": [
      "[nltk_data] Downloading package stopwords to\n",
      "[nltk_data]     C:\\Users\\Subhashini\\AppData\\Roaming\\nltk_data...\n",
      "[nltk_data]   Package stopwords is already up-to-date!\n",
      "[nltk_data] Downloading package punkt to\n",
      "[nltk_data]     C:\\Users\\Subhashini\\AppData\\Roaming\\nltk_data...\n",
      "[nltk_data]   Package punkt is already up-to-date!\n",
      "[nltk_data] Downloading package wordnet to\n",
      "[nltk_data]     C:\\Users\\Subhashini\\AppData\\Roaming\\nltk_data...\n",
      "[nltk_data]   Package wordnet is already up-to-date!\n"
     ]
    },
    {
     "name": "stdout",
     "output_type": "stream",
     "text": [
      "Stemmed Tokens:\n",
      "sampl text file contain sever line text gensim nltk use text preprocess\n",
      "\n",
      "Lemmatized Tokens:\n",
      "sample text file contains several line text gensim nltk used text preprocessing\n"
     ]
    }
   ],
   "source": [
    "import gensim\n",
    "from gensim.utils import simple_preprocess\n",
    "from nltk.stem import SnowballStemmer\n",
    "from nltk.corpus import stopwords\n",
    "from nltk.tokenize import word_tokenize\n",
    "from nltk.stem.wordnet import WordNetLemmatizer\n",
    "import nltk\n",
    "\n",
    "# Download required NLTK data files (run this once)\n",
    "nltk.download('stopwords')\n",
    "nltk.download('punkt')\n",
    "nltk.download('wordnet')\n",
    "\n",
    "# Initialize stemmer and lemmatizer\n",
    "stemmer = SnowballStemmer('english')\n",
    "lemmatizer = WordNetLemmatizer()\n",
    "\n",
    "# Load the English stopwords from NLTK\n",
    "stop_words = set(stopwords.words('english'))\n",
    "\n",
    "def preprocess_text(text):\n",
    "    # Convert text to lowercase\n",
    "    text = text.lower()\n",
    "\n",
    "    # Tokenize text\n",
    "    tokens = word_tokenize(text)\n",
    "\n",
    "    # Remove stopwords\n",
    "    tokens = [token for token in tokens if token not in stop_words and token.isalpha()]\n",
    "\n",
    "    # Perform stemming\n",
    "    stemmed_tokens = [stemmer.stem(token) for token in tokens]\n",
    "\n",
    "    # Perform lemmatization\n",
    "    lemmatized_tokens = [lemmatizer.lemmatize(token) for token in tokens]\n",
    "\n",
    "    return stemmed_tokens, lemmatized_tokens\n",
    "\n",
    "def main():\n",
    "    # Read the sample text file\n",
    "    with open('sample.txt', 'r') as file:\n",
    "        text = file.read()\n",
    "\n",
    "    # Preprocess the text\n",
    "    stemmed_tokens, lemmatized_tokens = preprocess_text(text)\n",
    "\n",
    "    # Print the processed tokens\n",
    "    print(\"Stemmed Tokens:\")\n",
    "    print(\" \".join(stemmed_tokens))\n",
    "    print(\"\\nLemmatized Tokens:\")\n",
    "    print(\" \".join(lemmatized_tokens))\n",
    "\n",
    "if __name__ == \"__main__\":\n",
    "    main()\n"
   ]
  },
  {
   "cell_type": "markdown",
   "id": "0a8971da",
   "metadata": {},
   "source": [
    "## DAY-11"
   ]
  },
  {
   "cell_type": "markdown",
   "id": "ca35c6f1",
   "metadata": {},
   "source": [
    "## Write a Python script that:\n",
    "1. Tokenizes a sample paragraph into words and sentences.\n"
   ]
  },
  {
   "cell_type": "code",
   "execution_count": 1,
   "id": "490106de",
   "metadata": {},
   "outputs": [
    {
     "name": "stdout",
     "output_type": "stream",
     "text": [
      "Defaulting to user installation because normal site-packages is not writeable\n",
      "Requirement already satisfied: nltk in c:\\programdata\\anaconda3\\lib\\site-packages (3.8.1)\n",
      "Requirement already satisfied: click in c:\\programdata\\anaconda3\\lib\\site-packages (from nltk) (8.0.4)\n",
      "Requirement already satisfied: joblib in c:\\programdata\\anaconda3\\lib\\site-packages (from nltk) (1.2.0)\n",
      "Requirement already satisfied: regex>=2021.8.3 in c:\\programdata\\anaconda3\\lib\\site-packages (from nltk) (2022.7.9)\n",
      "Requirement already satisfied: tqdm in c:\\programdata\\anaconda3\\lib\\site-packages (from nltk) (4.65.0)\n",
      "Requirement already satisfied: colorama in c:\\programdata\\anaconda3\\lib\\site-packages (from click->nltk) (0.4.6)\n",
      "Note: you may need to restart the kernel to use updated packages.\n"
     ]
    },
    {
     "name": "stderr",
     "output_type": "stream",
     "text": [
      "DEPRECATION: Loading egg at c:\\programdata\\anaconda3\\lib\\site-packages\\vboxapi-1.0-py3.11.egg is deprecated. pip 23.3 will enforce this behaviour change. A possible replacement is to use pip for package installation..\n"
     ]
    }
   ],
   "source": [
    "pip install nltk\n"
   ]
  },
  {
   "cell_type": "code",
   "execution_count": 2,
   "id": "254a496d",
   "metadata": {},
   "outputs": [
    {
     "name": "stdout",
     "output_type": "stream",
     "text": [
      "Tokenized Sentences:\n",
      "Natural language processing (NLP) is a field of artificial intelligence that focuses on the interaction between computers and humans through natural language.\n",
      "The ultimate goal of NLP is to enable computers to understand, interpret, and respond to human language in a way that is both meaningful and useful.\n",
      "\n",
      "Tokenized Words:\n",
      "['Natural', 'language', 'processing', '(', 'NLP', ')', 'is', 'a', 'field', 'of', 'artificial', 'intelligence', 'that', 'focuses', 'on', 'the', 'interaction', 'between', 'computers', 'and', 'humans', 'through', 'natural', 'language', '.']\n",
      "['The', 'ultimate', 'goal', 'of', 'NLP', 'is', 'to', 'enable', 'computers', 'to', 'understand', ',', 'interpret', ',', 'and', 'respond', 'to', 'human', 'language', 'in', 'a', 'way', 'that', 'is', 'both', 'meaningful', 'and', 'useful', '.']\n"
     ]
    },
    {
     "name": "stderr",
     "output_type": "stream",
     "text": [
      "[nltk_data] Downloading package punkt to\n",
      "[nltk_data]     C:\\Users\\Subhashini\\AppData\\Roaming\\nltk_data...\n",
      "[nltk_data]   Package punkt is already up-to-date!\n"
     ]
    }
   ],
   "source": [
    "import nltk\n",
    "from nltk.tokenize import word_tokenize, sent_tokenize\n",
    "\n",
    "# Download required NLTK data files (run this once)\n",
    "nltk.download('punkt')\n",
    "\n",
    "def tokenize_text(text):\n",
    "    # Tokenize the paragraph into sentences\n",
    "    sentences = sent_tokenize(text)\n",
    "\n",
    "    # Tokenize each sentence into words\n",
    "    words = [word_tokenize(sentence) for sentence in sentences]\n",
    "\n",
    "    return sentences, words\n",
    "\n",
    "def main():\n",
    "    # Sample paragraph\n",
    "    paragraph = (\n",
    "        \"Natural language processing (NLP) is a field of artificial intelligence \"\n",
    "        \"that focuses on the interaction between computers and humans through natural language. \"\n",
    "        \"The ultimate goal of NLP is to enable computers to understand, interpret, and respond to \"\n",
    "        \"human language in a way that is both meaningful and useful.\"\n",
    "    )\n",
    "\n",
    "    # Tokenize the text\n",
    "    sentences, words = tokenize_text(paragraph)\n",
    "\n",
    "    # Print the tokenized sentences and words\n",
    "    print(\"Tokenized Sentences:\")\n",
    "    for sentence in sentences:\n",
    "        print(sentence)\n",
    "\n",
    "    print(\"\\nTokenized Words:\")\n",
    "    for word_list in words:\n",
    "        print(word_list)\n",
    "\n",
    "if __name__ == \"__main__\":\n",
    "    main()\n"
   ]
  },
  {
   "cell_type": "markdown",
   "id": "36555f68",
   "metadata": {},
   "source": [
    "## DAY-13"
   ]
  },
  {
   "cell_type": "markdown",
   "id": "8d9a0b95",
   "metadata": {},
   "source": [
    "## Text Cleaning Lowercasing Removing Special Characters - Coding Assignment\n",
    "Assignment:\n",
    "Write a Python function to clean a given text by removing special characters and converting it to lowercase. Test it with the input: 'Hello, World! Welcome to NLP 101.'\n"
   ]
  },
  {
   "cell_type": "code",
   "execution_count": 3,
   "id": "8db976ee",
   "metadata": {},
   "outputs": [
    {
     "name": "stdout",
     "output_type": "stream",
     "text": [
      "Original Text: Hello, World! Welcome to NLP 101.\n",
      "Cleaned Text: hello world welcome to nlp 101\n"
     ]
    }
   ],
   "source": [
    "import re\n",
    "\n",
    "def clean_text(text):\n",
    "    # Convert text to lowercase\n",
    "    text = text.lower()\n",
    "    \n",
    "    # Remove special characters using regular expression\n",
    "    text = re.sub(r'[^a-zA-Z0-9\\s]', '', text)\n",
    "    \n",
    "    return text\n",
    "\n",
    "# Test the function\n",
    "input_text = 'Hello, World! Welcome to NLP 101.'\n",
    "cleaned_text = clean_text(input_text)\n",
    "print(f\"Original Text: {input_text}\")\n",
    "print(f\"Cleaned Text: {cleaned_text}\")\n"
   ]
  },
  {
   "cell_type": "markdown",
   "id": "b6b7dd31",
   "metadata": {},
   "source": [
    "## DAY-15"
   ]
  },
  {
   "cell_type": "markdown",
   "id": "e613763c",
   "metadata": {},
   "source": [
    "## Examples on Regular Expressions - Coding Assignment\n",
    "Assignment:\n",
    "Write a Python function using regular expressions to extract all email addresses from a given string. Test it with the input: 'Contact us at support@example.com and sales@example.org.'\n"
   ]
  },
  {
   "cell_type": "code",
   "execution_count": 4,
   "id": "ca6aaebe",
   "metadata": {},
   "outputs": [
    {
     "name": "stdout",
     "output_type": "stream",
     "text": [
      "Original Text: Contact us at support@example.com and sales@example.org.\n",
      "Extracted Emails: ['support@example.com', 'sales@example.org']\n"
     ]
    }
   ],
   "source": [
    "import re\n",
    "\n",
    "def extract_emails(text):\n",
    "    # Regular expression pattern for matching email addresses\n",
    "    email_pattern = r'[a-zA-Z0-9._%+-]+@[a-zA-Z0-9.-]+\\.[a-zA-Z]{2,}'\n",
    "    \n",
    "    # Find all email addresses in the text\n",
    "    emails = re.findall(email_pattern, text)\n",
    "    \n",
    "    return emails\n",
    "\n",
    "# Test the function\n",
    "input_text = 'Contact us at support@example.com and sales@example.org.'\n",
    "extracted_emails = extract_emails(input_text)\n",
    "print(f\"Original Text: {input_text}\")\n",
    "print(f\"Extracted Emails: {extracted_emails}\")\n"
   ]
  },
  {
   "cell_type": "markdown",
   "id": "243e46d0",
   "metadata": {},
   "source": [
    "## DAY-18"
   ]
  },
  {
   "cell_type": "markdown",
   "id": "62a5f511",
   "metadata": {},
   "source": [
    "## Exercises on Web Scraping - Coding Assignment\n",
    "Assignment:\n",
    "Write a Python script to fetch and print the title of a webpage using the 'requests' and 'BeautifulSoup' libraries. Test it with the URL: 'https://example.com'.\n"
   ]
  },
  {
   "cell_type": "code",
   "execution_count": 1,
   "id": "cb514c31",
   "metadata": {},
   "outputs": [
    {
     "name": "stdout",
     "output_type": "stream",
     "text": [
      "Defaulting to user installation because normal site-packages is not writeable\n",
      "Requirement already satisfied: requests in c:\\programdata\\anaconda3\\lib\\site-packages (2.31.0)\n",
      "Requirement already satisfied: beautifulsoup4 in c:\\programdata\\anaconda3\\lib\\site-packages (4.12.2)\n",
      "Requirement already satisfied: charset-normalizer<4,>=2 in c:\\programdata\\anaconda3\\lib\\site-packages (from requests) (2.0.4)\n",
      "Requirement already satisfied: idna<4,>=2.5 in c:\\programdata\\anaconda3\\lib\\site-packages (from requests) (3.4)\n",
      "Requirement already satisfied: urllib3<3,>=1.21.1 in c:\\programdata\\anaconda3\\lib\\site-packages (from requests) (1.26.16)\n",
      "Requirement already satisfied: certifi>=2017.4.17 in c:\\programdata\\anaconda3\\lib\\site-packages (from requests) (2023.7.22)\n",
      "Requirement already satisfied: soupsieve>1.2 in c:\\programdata\\anaconda3\\lib\\site-packages (from beautifulsoup4) (2.4)\n",
      "Note: you may need to restart the kernel to use updated packages.\n"
     ]
    },
    {
     "name": "stderr",
     "output_type": "stream",
     "text": [
      "DEPRECATION: Loading egg at c:\\programdata\\anaconda3\\lib\\site-packages\\vboxapi-1.0-py3.11.egg is deprecated. pip 23.3 will enforce this behaviour change. A possible replacement is to use pip for package installation..\n"
     ]
    }
   ],
   "source": [
    "pip install requests beautifulsoup4\n"
   ]
  },
  {
   "cell_type": "code",
   "execution_count": 2,
   "id": "fdeecc12",
   "metadata": {},
   "outputs": [
    {
     "name": "stdout",
     "output_type": "stream",
     "text": [
      "Webpage Title: Example Domain\n"
     ]
    }
   ],
   "source": [
    "import requests\n",
    "from bs4 import BeautifulSoup\n",
    "\n",
    "def get_webpage_title(url):\n",
    "    # Send an HTTP GET request to the given URL\n",
    "    response = requests.get(url)\n",
    "\n",
    "    # Check if the request was successful (status code 200)\n",
    "    if response.status_code == 200:\n",
    "        # Parse the HTML content using BeautifulSoup\n",
    "        soup = BeautifulSoup(response.content, 'html.parser')\n",
    "\n",
    "        # Extract the title tag content\n",
    "        title = soup.title.string\n",
    "\n",
    "        return title\n",
    "    else:\n",
    "        return f\"Failed to retrieve webpage. Status code: {response.status_code}\"\n",
    "\n",
    "def main():\n",
    "    # URL to fetch\n",
    "    url = 'https://example.com'\n",
    "\n",
    "    # Get the title of the webpage\n",
    "    title = get_webpage_title(url)\n",
    "\n",
    "    # Print the title\n",
    "    print(f\"Webpage Title: {title}\")\n",
    "\n",
    "if __name__ == \"__main__\":\n",
    "    main()\n"
   ]
  },
  {
   "cell_type": "markdown",
   "id": "583f63bb",
   "metadata": {},
   "source": [
    "## DAY-20"
   ]
  },
  {
   "cell_type": "markdown",
   "id": "6b5469d0",
   "metadata": {},
   "source": [
    "## Text Visualizations with WordCloud on Datasets - Coding Assignment\n",
    "Assignment:\n",
    "Write a Python script to generate a WordCloud from the text: 'data science machine learning artificial intelligence'. Save the WordCloud as an image.\n"
   ]
  },
  {
   "cell_type": "code",
   "execution_count": 1,
   "id": "79016bc8",
   "metadata": {},
   "outputs": [
    {
     "name": "stdout",
     "output_type": "stream",
     "text": [
      "Defaulting to user installation because normal site-packages is not writeable\n",
      "Requirement already satisfied: wordcloud in c:\\users\\subhashini\\appdata\\roaming\\python\\python311\\site-packages (1.9.4)\n",
      "Requirement already satisfied: numpy>=1.6.1 in c:\\users\\subhashini\\appdata\\roaming\\python\\python311\\site-packages (from wordcloud) (1.24.4)\n",
      "Requirement already satisfied: pillow in c:\\programdata\\anaconda3\\lib\\site-packages (from wordcloud) (9.4.0)\n",
      "Requirement already satisfied: matplotlib in c:\\programdata\\anaconda3\\lib\\site-packages (from wordcloud) (3.7.1)\n",
      "Requirement already satisfied: contourpy>=1.0.1 in c:\\programdata\\anaconda3\\lib\\site-packages (from matplotlib->wordcloud) (1.0.5)\n",
      "Requirement already satisfied: cycler>=0.10 in c:\\programdata\\anaconda3\\lib\\site-packages (from matplotlib->wordcloud) (0.11.0)\n",
      "Requirement already satisfied: fonttools>=4.22.0 in c:\\programdata\\anaconda3\\lib\\site-packages (from matplotlib->wordcloud) (4.25.0)\n",
      "Requirement already satisfied: kiwisolver>=1.0.1 in c:\\programdata\\anaconda3\\lib\\site-packages (from matplotlib->wordcloud) (1.4.4)\n",
      "Requirement already satisfied: packaging>=20.0 in c:\\programdata\\anaconda3\\lib\\site-packages (from matplotlib->wordcloud) (23.0)\n",
      "Requirement already satisfied: pyparsing>=2.3.1 in c:\\programdata\\anaconda3\\lib\\site-packages (from matplotlib->wordcloud) (3.0.9)\n",
      "Requirement already satisfied: python-dateutil>=2.7 in c:\\programdata\\anaconda3\\lib\\site-packages (from matplotlib->wordcloud) (2.8.2)\n",
      "Requirement already satisfied: six>=1.5 in c:\\programdata\\anaconda3\\lib\\site-packages (from python-dateutil>=2.7->matplotlib->wordcloud) (1.16.0)\n",
      "Note: you may need to restart the kernel to use updated packages.\n"
     ]
    },
    {
     "name": "stderr",
     "output_type": "stream",
     "text": [
      "DEPRECATION: Loading egg at c:\\programdata\\anaconda3\\lib\\site-packages\\vboxapi-1.0-py3.11.egg is deprecated. pip 23.3 will enforce this behaviour change. A possible replacement is to use pip for package installation..\n"
     ]
    }
   ],
   "source": [
    "pip install wordcloud\n"
   ]
  },
  {
   "cell_type": "code",
   "execution_count": 2,
   "id": "53226db9",
   "metadata": {},
   "outputs": [
    {
     "data": {
      "image/png": "[encoded data removed]",
      "text/plain": [
       "<Figure size 1000x500 with 1 Axes>"
      ]
     },
     "metadata": {},
     "output_type": "display_data"
    }
   ],
   "source": [
    "from wordcloud import WordCloud\n",
    "import matplotlib.pyplot as plt\n",
    "\n",
    "def generate_wordcloud(text, output_filename):\n",
    "    # Generate the WordCloud\n",
    "    wordcloud = WordCloud(width=800, height=400, background_color='white').generate(text)\n",
    "    \n",
    "    # Display the WordCloud using matplotlib\n",
    "    plt.figure(figsize=(10, 5))\n",
    "    plt.imshow(wordcloud, interpolation='bilinear')\n",
    "    plt.axis('off')\n",
    "    \n",
    "    # Save the WordCloud as an image file\n",
    "    plt.savefig(output_filename, format='png')\n",
    "    plt.show()\n",
    "\n",
    "# Sample text\n",
    "text = 'data science machine learning artificial intelligence'\n",
    "\n",
    "# Output filename\n",
    "output_filename = 'wordcloud.png'\n",
    "\n",
    "# Generate and save the WordCloud\n",
    "generate_wordcloud(text, output_filename)\n"
   ]
  },
  {
   "cell_type": "markdown",
   "id": "2d7b851e",
   "metadata": {},
   "source": [
    "## DAY-22"
   ]
  },
  {
   "cell_type": "markdown",
   "id": "ca807982",
   "metadata": {},
   "source": [
    "##Part of Speech Tagging using SpaCy - Coding Assignment\n",
    "Assignment:\n",
    "Write a Python script to perform part-of-speech tagging on the sentence: 'NLP is amazing and fun to learn.' using SpaCy.\n"
   ]
  },
  {
   "cell_type": "code",
   "execution_count": 1,
   "id": "8885b171",
   "metadata": {},
   "outputs": [
    {
     "name": "stdout",
     "output_type": "stream",
     "text": [
      "Defaulting to user installation because normal site-packages is not writeable\n",
      "Requirement already satisfied: spacy in c:\\users\\subhashini\\appdata\\roaming\\python\\python311\\site-packages (3.8.3)\n",
      "Requirement already satisfied: spacy-legacy<3.1.0,>=3.0.11 in c:\\users\\subhashini\\appdata\\roaming\\python\\python311\\site-packages (from spacy) (3.0.12)\n",
      "Requirement already satisfied: spacy-loggers<2.0.0,>=1.0.0 in c:\\users\\subhashini\\appdata\\roaming\\python\\python311\\site-packages (from spacy) (1.0.5)\n",
      "Requirement already satisfied: murmurhash<1.1.0,>=0.28.0 in c:\\users\\subhashini\\appdata\\roaming\\python\\python311\\site-packages (from spacy) (1.0.11)\n",
      "Requirement already satisfied: cymem<2.1.0,>=2.0.2 in c:\\users\\subhashini\\appdata\\roaming\\python\\python311\\site-packages (from spacy) (2.0.10)\n",
      "Requirement already satisfied: preshed<3.1.0,>=3.0.2 in c:\\users\\subhashini\\appdata\\roaming\\python\\python311\\site-packages (from spacy) (3.0.9)\n",
      "Requirement already satisfied: thinc<8.4.0,>=8.3.0 in c:\\users\\subhashini\\appdata\\roaming\\python\\python311\\site-packages (from spacy) (8.3.3)\n",
      "Requirement already satisfied: wasabi<1.2.0,>=0.9.1 in c:\\users\\subhashini\\appdata\\roaming\\python\\python311\\site-packages (from spacy) (1.1.3)\n",
      "Requirement already satisfied: srsly<3.0.0,>=2.4.3 in c:\\users\\subhashini\\appdata\\roaming\\python\\python311\\site-packages (from spacy) (2.5.0)\n",
      "Requirement already satisfied: catalogue<2.1.0,>=2.0.6 in c:\\users\\subhashini\\appdata\\roaming\\python\\python311\\site-packages (from spacy) (2.0.10)\n",
      "Requirement already satisfied: weasel<0.5.0,>=0.1.0 in c:\\users\\subhashini\\appdata\\roaming\\python\\python311\\site-packages (from spacy) (0.4.1)\n",
      "Requirement already satisfied: typer<1.0.0,>=0.3.0 in c:\\users\\subhashini\\appdata\\roaming\\python\\python311\\site-packages (from spacy) (0.15.1)\n",
      "Requirement already satisfied: tqdm<5.0.0,>=4.38.0 in c:\\programdata\\anaconda3\\lib\\site-packages (from spacy) (4.65.0)\n",
      "Requirement already satisfied: numpy>=1.19.0 in c:\\users\\subhashini\\appdata\\roaming\\python\\python311\\site-packages (from spacy) (1.24.4)\n",
      "Requirement already satisfied: requests<3.0.0,>=2.13.0 in c:\\programdata\\anaconda3\\lib\\site-packages (from spacy) (2.31.0)\n",
      "Requirement already satisfied: pydantic!=1.8,!=1.8.1,<3.0.0,>=1.7.4 in c:\\users\\subhashini\\appdata\\roaming\\python\\python311\\site-packages (from spacy) (2.10.4)\n",
      "Requirement already satisfied: jinja2 in c:\\programdata\\anaconda3\\lib\\site-packages (from spacy) (3.1.2)\n",
      "Requirement already satisfied: setuptools in c:\\programdata\\anaconda3\\lib\\site-packages (from spacy) (68.0.0)\n",
      "Requirement already satisfied: packaging>=20.0 in c:\\programdata\\anaconda3\\lib\\site-packages (from spacy) (23.0)\n",
      "Requirement already satisfied: langcodes<4.0.0,>=3.2.0 in c:\\users\\subhashini\\appdata\\roaming\\python\\python311\\site-packages (from spacy) (3.5.0)\n",
      "Requirement already satisfied: language-data>=1.2 in c:\\users\\subhashini\\appdata\\roaming\\python\\python311\\site-packages (from langcodes<4.0.0,>=3.2.0->spacy) (1.3.0)\n",
      "Requirement already satisfied: annotated-types>=0.6.0 in c:\\users\\subhashini\\appdata\\roaming\\python\\python311\\site-packages (from pydantic!=1.8,!=1.8.1,<3.0.0,>=1.7.4->spacy) (0.7.0)\n",
      "Requirement already satisfied: pydantic-core==2.27.2 in c:\\users\\subhashini\\appdata\\roaming\\python\\python311\\site-packages (from pydantic!=1.8,!=1.8.1,<3.0.0,>=1.7.4->spacy) (2.27.2)\n",
      "Requirement already satisfied: typing-extensions>=4.12.2 in c:\\users\\subhashini\\appdata\\roaming\\python\\python311\\site-packages (from pydantic!=1.8,!=1.8.1,<3.0.0,>=1.7.4->spacy) (4.12.2)\n",
      "Requirement already satisfied: charset-normalizer<4,>=2 in c:\\programdata\\anaconda3\\lib\\site-packages (from requests<3.0.0,>=2.13.0->spacy) (2.0.4)\n",
      "Requirement already satisfied: idna<4,>=2.5 in c:\\programdata\\anaconda3\\lib\\site-packages (from requests<3.0.0,>=2.13.0->spacy) (3.4)\n",
      "Requirement already satisfied: urllib3<3,>=1.21.1 in c:\\programdata\\anaconda3\\lib\\site-packages (from requests<3.0.0,>=2.13.0->spacy) (1.26.16)\n",
      "Requirement already satisfied: certifi>=2017.4.17 in c:\\programdata\\anaconda3\\lib\\site-packages (from requests<3.0.0,>=2.13.0->spacy) (2023.7.22)\n",
      "Requirement already satisfied: blis<1.2.0,>=1.1.0 in c:\\users\\subhashini\\appdata\\roaming\\python\\python311\\site-packages (from thinc<8.4.0,>=8.3.0->spacy) (1.1.0)\n",
      "Requirement already satisfied: confection<1.0.0,>=0.0.1 in c:\\users\\subhashini\\appdata\\roaming\\python\\python311\\site-packages (from thinc<8.4.0,>=8.3.0->spacy) (0.1.5)\n",
      "Requirement already satisfied: colorama in c:\\programdata\\anaconda3\\lib\\site-packages (from tqdm<5.0.0,>=4.38.0->spacy) (0.4.6)\n",
      "Requirement already satisfied: click>=8.0.0 in c:\\programdata\\anaconda3\\lib\\site-packages (from typer<1.0.0,>=0.3.0->spacy) (8.0.4)\n",
      "Requirement already satisfied: shellingham>=1.3.0 in c:\\users\\subhashini\\appdata\\roaming\\python\\python311\\site-packages (from typer<1.0.0,>=0.3.0->spacy) (1.5.4)\n",
      "Requirement already satisfied: rich>=10.11.0 in c:\\users\\subhashini\\appdata\\roaming\\python\\python311\\site-packages (from typer<1.0.0,>=0.3.0->spacy) (13.9.2)\n",
      "Requirement already satisfied: cloudpathlib<1.0.0,>=0.7.0 in c:\\users\\subhashini\\appdata\\roaming\\python\\python311\\site-packages (from weasel<0.5.0,>=0.1.0->spacy) (0.20.0)\n",
      "Requirement already satisfied: smart-open<8.0.0,>=5.2.1 in c:\\programdata\\anaconda3\\lib\\site-packages (from weasel<0.5.0,>=0.1.0->spacy) (5.2.1)\n",
      "Requirement already satisfied: MarkupSafe>=2.0 in c:\\programdata\\anaconda3\\lib\\site-packages (from jinja2->spacy) (2.1.1)\n",
      "Requirement already satisfied: marisa-trie>=1.1.0 in c:\\users\\subhashini\\appdata\\roaming\\python\\python311\\site-packages (from language-data>=1.2->langcodes<4.0.0,>=3.2.0->spacy) (1.2.1)\n",
      "Requirement already satisfied: markdown-it-py>=2.2.0 in c:\\programdata\\anaconda3\\lib\\site-packages (from rich>=10.11.0->typer<1.0.0,>=0.3.0->spacy) (2.2.0)\n",
      "Requirement already satisfied: pygments<3.0.0,>=2.13.0 in c:\\programdata\\anaconda3\\lib\\site-packages (from rich>=10.11.0->typer<1.0.0,>=0.3.0->spacy) (2.15.1)\n",
      "Requirement already satisfied: mdurl~=0.1 in c:\\programdata\\anaconda3\\lib\\site-packages (from markdown-it-py>=2.2.0->rich>=10.11.0->typer<1.0.0,>=0.3.0->spacy) (0.1.0)\n"
     ]
    },
    {
     "name": "stderr",
     "output_type": "stream",
     "text": [
      "DEPRECATION: Loading egg at c:\\programdata\\anaconda3\\lib\\site-packages\\vboxapi-1.0-py3.11.egg is deprecated. pip 23.3 will enforce this behaviour change. A possible replacement is to use pip for package installation..\n"
     ]
    },
    {
     "name": "stdout",
     "output_type": "stream",
     "text": [
      "Defaulting to user installation because normal site-packages is not writeable\n",
      "Collecting en-core-web-sm==3.8.0\n",
      "  Downloading https://github.com/explosion/spacy-models/releases/download/en_core_web_sm-3.8.0/en_core_web_sm-3.8.0-py3-none-any.whl (12.8 MB)\n",
      "     ---------------------------------------- 0.0/12.8 MB ? eta -:--:--\n",
      "     ---------------------------------------- 0.2/12.8 MB 4.6 MB/s eta 0:00:03\n",
      "     - -------------------------------------- 0.3/12.8 MB 4.3 MB/s eta 0:00:03\n",
      "     - -------------------------------------- 0.6/12.8 MB 5.1 MB/s eta 0:00:03\n",
      "     -- ------------------------------------- 0.8/12.8 MB 4.9 MB/s eta 0:00:03\n",
      "     -- ------------------------------------- 0.9/12.8 MB 4.9 MB/s eta 0:00:03\n",
      "     --- ------------------------------------ 1.1/12.8 MB 4.6 MB/s eta 0:00:03\n",
      "     --- ------------------------------------ 1.3/12.8 MB 4.4 MB/s eta 0:00:03\n",
      "     ---- ----------------------------------- 1.4/12.8 MB 4.4 MB/s eta 0:00:03\n",
      "     ----- ---------------------------------- 1.6/12.8 MB 4.4 MB/s eta 0:00:03\n",
      "     ----- ---------------------------------- 1.9/12.8 MB 4.6 MB/s eta 0:00:03\n",
      "     ------ --------------------------------- 2.2/12.8 MB 4.9 MB/s eta 0:00:03\n",
      "     -------- ------------------------------- 2.6/12.8 MB 5.0 MB/s eta 0:00:03\n",
      "     -------- ------------------------------- 2.8/12.8 MB 5.2 MB/s eta 0:00:02\n",
      "     --------- ------------------------------ 3.1/12.8 MB 5.1 MB/s eta 0:00:02\n",
      "     ---------- ----------------------------- 3.4/12.8 MB 5.4 MB/s eta 0:00:02\n",
      "     ----------- ---------------------------- 3.7/12.8 MB 5.4 MB/s eta 0:00:02\n",
      "     ------------ --------------------------- 4.0/12.8 MB 5.5 MB/s eta 0:00:02\n",
      "     ------------- -------------------------- 4.2/12.8 MB 5.5 MB/s eta 0:00:02\n",
      "     ------------- -------------------------- 4.5/12.8 MB 5.5 MB/s eta 0:00:02\n",
      "     -------------- ------------------------- 4.7/12.8 MB 5.5 MB/s eta 0:00:02\n",
      "     --------------- ------------------------ 4.8/12.8 MB 5.4 MB/s eta 0:00:02\n",
      "     --------------- ------------------------ 5.0/12.8 MB 5.3 MB/s eta 0:00:02\n",
      "     ---------------- ----------------------- 5.2/12.8 MB 5.4 MB/s eta 0:00:02\n",
      "     ----------------- ---------------------- 5.5/12.8 MB 5.4 MB/s eta 0:00:02\n",
      "     ------------------ --------------------- 5.8/12.8 MB 5.4 MB/s eta 0:00:02\n",
      "     ------------------- -------------------- 6.1/12.8 MB 5.5 MB/s eta 0:00:02\n",
      "     ------------------- -------------------- 6.4/12.8 MB 5.6 MB/s eta 0:00:02\n",
      "     -------------------- ------------------- 6.6/12.8 MB 5.4 MB/s eta 0:00:02\n",
      "     --------------------- ------------------ 6.7/12.8 MB 5.5 MB/s eta 0:00:02\n",
      "     --------------------- ------------------ 7.0/12.8 MB 5.5 MB/s eta 0:00:02\n",
      "     ---------------------- ----------------- 7.2/12.8 MB 5.4 MB/s eta 0:00:02\n",
      "     ----------------------- ---------------- 7.5/12.8 MB 5.4 MB/s eta 0:00:01\n",
      "     ------------------------ --------------- 7.7/12.8 MB 5.5 MB/s eta 0:00:01\n",
      "     ------------------------ --------------- 7.9/12.8 MB 5.4 MB/s eta 0:00:01\n",
      "     ------------------------- -------------- 8.2/12.8 MB 5.5 MB/s eta 0:00:01\n",
      "     ------------------------- -------------- 8.3/12.8 MB 5.3 MB/s eta 0:00:01\n",
      "     -------------------------- ------------- 8.3/12.8 MB 5.2 MB/s eta 0:00:01\n",
      "     -------------------------- ------------- 8.5/12.8 MB 5.2 MB/s eta 0:00:01\n",
      "     --------------------------- ------------ 8.7/12.8 MB 5.1 MB/s eta 0:00:01\n",
      "     --------------------------- ------------ 8.9/12.8 MB 5.1 MB/s eta 0:00:01\n",
      "     ---------------------------- ----------- 9.1/12.8 MB 5.2 MB/s eta 0:00:01\n",
      "     ----------------------------- ---------- 9.4/12.8 MB 5.2 MB/s eta 0:00:01\n",
      "     ------------------------------ --------- 9.7/12.8 MB 5.2 MB/s eta 0:00:01\n",
      "     ------------------------------ --------- 9.9/12.8 MB 5.2 MB/s eta 0:00:01\n",
      "     ------------------------------- -------- 10.1/12.8 MB 5.2 MB/s eta 0:00:01\n",
      "     -------------------------------- ------- 10.3/12.8 MB 5.2 MB/s eta 0:00:01\n",
      "     -------------------------------- ------- 10.5/12.8 MB 5.2 MB/s eta 0:00:01\n",
      "     --------------------------------- ------ 10.8/12.8 MB 5.2 MB/s eta 0:00:01\n",
      "     ---------------------------------- ----- 11.0/12.8 MB 5.2 MB/s eta 0:00:01\n",
      "     ----------------------------------- ---- 11.3/12.8 MB 5.4 MB/s eta 0:00:01\n",
      "     ------------------------------------ --- 11.6/12.8 MB 5.4 MB/s eta 0:00:01\n",
      "     ------------------------------------- -- 11.9/12.8 MB 5.4 MB/s eta 0:00:01\n",
      "     ------------------------------------- -- 12.1/12.8 MB 5.4 MB/s eta 0:00:01\n",
      "     -------------------------------------- - 12.3/12.8 MB 5.4 MB/s eta 0:00:01\n",
      "     ---------------------------------------  12.5/12.8 MB 5.4 MB/s eta 0:00:01\n",
      "     ---------------------------------------  12.7/12.8 MB 5.3 MB/s eta 0:00:01\n",
      "     ---------------------------------------  12.8/12.8 MB 5.3 MB/s eta 0:00:01\n",
      "     ---------------------------------------- 12.8/12.8 MB 5.2 MB/s eta 0:00:00\n",
      "\u001b[38;5;2m[+] Download and installation successful\u001b[0m\n",
      "You can now load the package via spacy.load('en_core_web_sm')\n"
     ]
    },
    {
     "name": "stderr",
     "output_type": "stream",
     "text": [
      "DEPRECATION: Loading egg at c:\\programdata\\anaconda3\\lib\\site-packages\\vboxapi-1.0-py3.11.egg is deprecated. pip 23.3 will enforce this behaviour change. A possible replacement is to use pip for package installation..\n"
     ]
    }
   ],
   "source": [
    "!pip install spacy\n",
    "!python -m spacy download en_core_web_sm\n"
   ]
  },
  {
   "cell_type": "code",
   "execution_count": 2,
   "id": "a600631c",
   "metadata": {},
   "outputs": [
    {
     "name": "stdout",
     "output_type": "stream",
     "text": [
      "NLP: PROPN (NNP) - noun, proper singular\n",
      "is: AUX (VBZ) - verb, 3rd person singular present\n",
      "amazing: ADJ (JJ) - adjective (English), other noun-modifier (Chinese)\n",
      "and: CCONJ (CC) - conjunction, coordinating\n",
      "fun: ADJ (JJ) - adjective (English), other noun-modifier (Chinese)\n",
      "to: PART (TO) - infinitival \"to\"\n",
      "learn: VERB (VB) - verb, base form\n",
      ".: PUNCT (.) - punctuation mark, sentence closer\n"
     ]
    }
   ],
   "source": [
    "import spacy\n",
    "\n",
    "# Load the spaCy model\n",
    "nlp = spacy.load('en_core_web_sm')\n",
    "\n",
    "def pos_tagging(text):\n",
    "    # Process the text using spaCy\n",
    "    doc = nlp(text)\n",
    "\n",
    "    # Print the text, POS tags, and explanations\n",
    "    for token in doc:\n",
    "        print(f\"{token.text}: {token.pos_} ({token.tag_}) - {spacy.explain(token.tag_)}\")\n",
    "\n",
    "# Input sentence\n",
    "sentence = \"NLP is amazing and fun to learn.\"\n",
    "\n",
    "# Perform POS tagging\n",
    "pos_tagging(sentence)\n"
   ]
  },
  {
   "cell_type": "markdown",
   "id": "eeb62740",
   "metadata": {},
   "source": [
    "## DAY-24"
   ]
  },
  {
   "cell_type": "markdown",
   "id": "3cb4b012",
   "metadata": {},
   "source": [
    "##Coding Exercise: EDA for Text Data\n",
    "Write a Python program to load a text file, tokenize the text using NLTK, and display the 10 most common words. Use the NLTK library for tokenization.\n"
   ]
  },
  {
   "cell_type": "code",
   "execution_count": 2,
   "id": "eb6ac4a7",
   "metadata": {},
   "outputs": [
    {
     "name": "stdout",
     "output_type": "stream",
     "text": [
      "Defaulting to user installation because normal site-packages is not writeableNote: you may need to restart the kernel to use updated packages.\n",
      "\n",
      "Requirement already satisfied: nltk in c:\\programdata\\anaconda3\\lib\\site-packages (3.8.1)\n",
      "Requirement already satisfied: click in c:\\programdata\\anaconda3\\lib\\site-packages (from nltk) (8.0.4)\n",
      "Requirement already satisfied: joblib in c:\\programdata\\anaconda3\\lib\\site-packages (from nltk) (1.2.0)\n",
      "Requirement already satisfied: regex>=2021.8.3 in c:\\programdata\\anaconda3\\lib\\site-packages (from nltk) (2022.7.9)\n",
      "Requirement already satisfied: tqdm in c:\\programdata\\anaconda3\\lib\\site-packages (from nltk) (4.65.0)\n",
      "Requirement already satisfied: colorama in c:\\programdata\\anaconda3\\lib\\site-packages (from click->nltk) (0.4.6)\n"
     ]
    },
    {
     "name": "stderr",
     "output_type": "stream",
     "text": [
      "DEPRECATION: Loading egg at c:\\programdata\\anaconda3\\lib\\site-packages\\vboxapi-1.0-py3.11.egg is deprecated. pip 23.3 will enforce this behaviour change. A possible replacement is to use pip for package installation..\n"
     ]
    }
   ],
   "source": [
    "pip install nltk\n"
   ]
  },
  {
   "cell_type": "code",
   "execution_count": 3,
   "id": "ccc32198",
   "metadata": {},
   "outputs": [
    {
     "name": "stdout",
     "output_type": "stream",
     "text": [
      "10 Most Common Words:\n",
      "text: 3\n",
      ".: 3\n",
      "This: 1\n",
      "is: 1\n",
      "a: 1\n",
      "sample: 1\n",
      "file: 1\n",
      "It: 1\n",
      "contains: 1\n",
      "several: 1\n"
     ]
    },
    {
     "name": "stderr",
     "output_type": "stream",
     "text": [
      "[nltk_data] Downloading package punkt to\n",
      "[nltk_data]     C:\\Users\\Subhashini\\AppData\\Roaming\\nltk_data...\n",
      "[nltk_data]   Package punkt is already up-to-date!\n"
     ]
    }
   ],
   "source": [
    "import nltk\n",
    "from nltk.tokenize import word_tokenize\n",
    "from collections import Counter\n",
    "\n",
    "# Download required NLTK data files (run this once)\n",
    "nltk.download('punkt')\n",
    "\n",
    "def load_text_file(filename):\n",
    "    with open(filename, 'r') as file:\n",
    "        text = file.read()\n",
    "    return text\n",
    "\n",
    "def tokenize_text(text):\n",
    "    # Tokenize the text into words\n",
    "    words = word_tokenize(text)\n",
    "    return words\n",
    "\n",
    "def display_most_common_words(words, num_common=10):\n",
    "    # Count the frequency of each word\n",
    "    word_counts = Counter(words)\n",
    "    \n",
    "    # Display the most common words\n",
    "    most_common_words = word_counts.most_common(num_common)\n",
    "    for word, count in most_common_words:\n",
    "        print(f\"{word}: {count}\")\n",
    "\n",
    "def main():\n",
    "    # Load the text from a file\n",
    "    filename = 'sample.txt'  # Make sure this file exists in the same directory\n",
    "    text = load_text_file(filename)\n",
    "\n",
    "    # Tokenize the text\n",
    "    words = tokenize_text(text)\n",
    "    \n",
    "    # Display the 10 most common words\n",
    "    print(\"10 Most Common Words:\")\n",
    "    display_most_common_words(words)\n",
    "\n",
    "if __name__ == \"__main__\":\n",
    "    main()\n"
   ]
  },
  {
   "cell_type": "markdown",
   "id": "5dd9c432",
   "metadata": {},
   "source": [
    "## DAY-26"
   ]
  },
  {
   "cell_type": "markdown",
   "id": "4cfb2743",
   "metadata": {},
   "source": [
    "## Coding Exercise: Text Similarity Techniques\n",
    "Write a Python program to calculate the cosine similarity between two strings using the Scikit-learn library. You can use the 'TfidfVectorizer' class to transform the text into vectors.\n"
   ]
  },
  {
   "cell_type": "code",
   "execution_count": 1,
   "id": "f7e893eb",
   "metadata": {},
   "outputs": [
    {
     "name": "stdout",
     "output_type": "stream",
     "text": [
      "Note: you may need to restart the kernel to use updated packages.Defaulting to user installation because normal site-packages is not writeable\n",
      "Requirement already satisfied: scikit-learn in c:\\programdata\\anaconda3\\lib\\site-packages (1.3.0)\n",
      "Requirement already satisfied: numpy>=1.17.3 in c:\\users\\subhashini\\appdata\\roaming\\python\\python311\\site-packages (from scikit-learn) (1.24.4)\n",
      "Requirement already satisfied: scipy>=1.5.0 in c:\\programdata\\anaconda3\\lib\\site-packages (from scikit-learn) (1.10.1)\n",
      "Requirement already satisfied: joblib>=1.1.1 in c:\\programdata\\anaconda3\\lib\\site-packages (from scikit-learn) (1.2.0)\n",
      "Requirement already satisfied: threadpoolctl>=2.0.0 in c:\\programdata\\anaconda3\\lib\\site-packages (from scikit-learn) (2.2.0)\n",
      "\n"
     ]
    },
    {
     "name": "stderr",
     "output_type": "stream",
     "text": [
      "DEPRECATION: Loading egg at c:\\programdata\\anaconda3\\lib\\site-packages\\vboxapi-1.0-py3.11.egg is deprecated. pip 23.3 will enforce this behaviour change. A possible replacement is to use pip for package installation..\n"
     ]
    }
   ],
   "source": [
    "pip install scikit-learn\n"
   ]
  },
  {
   "cell_type": "markdown",
   "id": "a25063b0",
   "metadata": {},
   "source": [
    "from sklearn.feature_extraction.text import TfidfVectorizer\n",
    "from sklearn.metrics.pairwise import cosine_similarity\n",
    "\n",
    "def calculate_cosine_similarity(text1, text2):\n",
    "    # Create an instance of TfidfVectorizer\n",
    "    vectorizer = TfidfVectorizer()\n",
    "    \n",
    "    # Transform the text into TF-IDF vectors\n",
    "    tfidf_matrix = vectorizer.fit_transform([text1, text2])\n",
    "    \n",
    "    # Calculate the cosine similarity between the two vectors\n",
    "    cosine_sim = cosine_similarity(tfidf_matrix[0:1], tfidf_matrix[1:2])\n",
    "    \n",
    "    return cosine_sim[0][0]\n",
    "\n",
    "def main():\n",
    "    # Input strings\n",
    "    string1 = \"Natural language processing is a field of artificial intelligence.\"\n",
    "    string2 = \"Machine learning and natural language processing are closely related fields.\"\n",
    "\n",
    "    # Calculate cosine similarity\n",
    "    similarity_score = calculate_cosine_similarity(string1, string2)\n",
    "    \n",
    "    # Print the similarity score\n",
    "    print(f\"Cosine Similarity: {similarity_score:.4f}\")\n",
    "\n",
    "if __name__ == \"__main__\":\n",
    "    main()\n"
   ]
  },
  {
   "cell_type": "markdown",
   "id": "5474334e",
   "metadata": {},
   "source": [
    "## DAY-28"
   ]
  },
  {
   "cell_type": "code",
   "execution_count": null,
   "id": "789bad98",
   "metadata": {},
   "outputs": [
    {
     "name": "stdout",
     "output_type": "stream",
     "text": [
      "Defaulting to user installation because normal site-packages is not writeable\n",
      "Requirement already satisfied: spacy in c:\\users\\subhashini\\appdata\\roaming\\python\\python311\\site-packages (3.8.3)\n",
      "Requirement already satisfied: spacy-legacy<3.1.0,>=3.0.11 in c:\\users\\subhashini\\appdata\\roaming\\python\\python311\\site-packages (from spacy) (3.0.12)\n",
      "Requirement already satisfied: spacy-loggers<2.0.0,>=1.0.0 in c:\\users\\subhashini\\appdata\\roaming\\python\\python311\\site-packages (from spacy) (1.0.5)\n",
      "Requirement already satisfied: murmurhash<1.1.0,>=0.28.0 in c:\\users\\subhashini\\appdata\\roaming\\python\\python311\\site-packages (from spacy) (1.0.11)\n",
      "Requirement already satisfied: cymem<2.1.0,>=2.0.2 in c:\\users\\subhashini\\appdata\\roaming\\python\\python311\\site-packages (from spacy) (2.0.10)\n",
      "Requirement already satisfied: preshed<3.1.0,>=3.0.2 in c:\\users\\subhashini\\appdata\\roaming\\python\\python311\\site-packages (from spacy) (3.0.9)\n",
      "Requirement already satisfied: thinc<8.4.0,>=8.3.0 in c:\\users\\subhashini\\appdata\\roaming\\python\\python311\\site-packages (from spacy) (8.3.3)\n",
      "Requirement already satisfied: wasabi<1.2.0,>=0.9.1 in c:\\users\\subhashini\\appdata\\roaming\\python\\python311\\site-packages (from spacy) (1.1.3)\n",
      "Requirement already satisfied: srsly<3.0.0,>=2.4.3 in c:\\users\\subhashini\\appdata\\roaming\\python\\python311\\site-packages (from spacy) (2.5.0)\n",
      "Requirement already satisfied: catalogue<2.1.0,>=2.0.6 in c:\\users\\subhashini\\appdata\\roaming\\python\\python311\\site-packages (from spacy) (2.0.10)\n",
      "Requirement already satisfied: weasel<0.5.0,>=0.1.0 in c:\\users\\subhashini\\appdata\\roaming\\python\\python311\\site-packages (from spacy) (0.4.1)\n",
      "Requirement already satisfied: typer<1.0.0,>=0.3.0 in c:\\users\\subhashini\\appdata\\roaming\\python\\python311\\site-packages (from spacy) (0.15.1)\n",
      "Requirement already satisfied: tqdm<5.0.0,>=4.38.0 in c:\\programdata\\anaconda3\\lib\\site-packages (from spacy) (4.65.0)\n",
      "Requirement already satisfied: numpy>=1.19.0 in c:\\users\\subhashini\\appdata\\roaming\\python\\python311\\site-packages (from spacy) (1.24.4)\n",
      "Requirement already satisfied: requests<3.0.0,>=2.13.0 in c:\\programdata\\anaconda3\\lib\\site-packages (from spacy) (2.31.0)\n",
      "Requirement already satisfied: pydantic!=1.8,!=1.8.1,<3.0.0,>=1.7.4 in c:\\users\\subhashini\\appdata\\roaming\\python\\python311\\site-packages (from spacy) (2.10.4)\n",
      "Requirement already satisfied: jinja2 in c:\\programdata\\anaconda3\\lib\\site-packages (from spacy) (3.1.2)\n",
      "Requirement already satisfied: setuptools in c:\\programdata\\anaconda3\\lib\\site-packages (from spacy) (68.0.0)\n",
      "Requirement already satisfied: packaging>=20.0 in c:\\programdata\\anaconda3\\lib\\site-packages (from spacy) (23.0)\n",
      "Requirement already satisfied: langcodes<4.0.0,>=3.2.0 in c:\\users\\subhashini\\appdata\\roaming\\python\\python311\\site-packages (from spacy) (3.5.0)\n",
      "Requirement already satisfied: language-data>=1.2 in c:\\users\\subhashini\\appdata\\roaming\\python\\python311\\site-packages (from langcodes<4.0.0,>=3.2.0->spacy) (1.3.0)\n",
      "Requirement already satisfied: annotated-types>=0.6.0 in c:\\users\\subhashini\\appdata\\roaming\\python\\python311\\site-packages (from pydantic!=1.8,!=1.8.1,<3.0.0,>=1.7.4->spacy) (0.7.0)\n",
      "Requirement already satisfied: pydantic-core==2.27.2 in c:\\users\\subhashini\\appdata\\roaming\\python\\python311\\site-packages (from pydantic!=1.8,!=1.8.1,<3.0.0,>=1.7.4->spacy) (2.27.2)\n",
      "Requirement already satisfied: typing-extensions>=4.12.2 in c:\\users\\subhashini\\appdata\\roaming\\python\\python311\\site-packages (from pydantic!=1.8,!=1.8.1,<3.0.0,>=1.7.4->spacy) (4.12.2)\n",
      "Requirement already satisfied: charset-normalizer<4,>=2 in c:\\programdata\\anaconda3\\lib\\site-packages (from requests<3.0.0,>=2.13.0->spacy) (2.0.4)\n",
      "Requirement already satisfied: idna<4,>=2.5 in c:\\programdata\\anaconda3\\lib\\site-packages (from requests<3.0.0,>=2.13.0->spacy) (3.4)\n",
      "Requirement already satisfied: urllib3<3,>=1.21.1 in c:\\programdata\\anaconda3\\lib\\site-packages (from requests<3.0.0,>=2.13.0->spacy) (1.26.16)\n",
      "Requirement already satisfied: certifi>=2017.4.17 in c:\\programdata\\anaconda3\\lib\\site-packages (from requests<3.0.0,>=2.13.0->spacy) (2023.7.22)\n",
      "Requirement already satisfied: blis<1.2.0,>=1.1.0 in c:\\users\\subhashini\\appdata\\roaming\\python\\python311\\site-packages (from thinc<8.4.0,>=8.3.0->spacy) (1.1.0)\n",
      "Requirement already satisfied: confection<1.0.0,>=0.0.1 in c:\\users\\subhashini\\appdata\\roaming\\python\\python311\\site-packages (from thinc<8.4.0,>=8.3.0->spacy) (0.1.5)\n",
      "Requirement already satisfied: colorama in c:\\programdata\\anaconda3\\lib\\site-packages (from tqdm<5.0.0,>=4.38.0->spacy) (0.4.6)\n",
      "Requirement already satisfied: click>=8.0.0 in c:\\programdata\\anaconda3\\lib\\site-packages (from typer<1.0.0,>=0.3.0->spacy) (8.0.4)\n",
      "Requirement already satisfied: shellingham>=1.3.0 in c:\\users\\subhashini\\appdata\\roaming\\python\\python311\\site-packages (from typer<1.0.0,>=0.3.0->spacy) (1.5.4)\n",
      "Requirement already satisfied: rich>=10.11.0 in c:\\users\\subhashini\\appdata\\roaming\\python\\python311\\site-packages (from typer<1.0.0,>=0.3.0->spacy) (13.9.2)\n",
      "Requirement already satisfied: cloudpathlib<1.0.0,>=0.7.0 in c:\\users\\subhashini\\appdata\\roaming\\python\\python311\\site-packages (from weasel<0.5.0,>=0.1.0->spacy) (0.20.0)\n",
      "Requirement already satisfied: smart-open<8.0.0,>=5.2.1 in c:\\programdata\\anaconda3\\lib\\site-packages (from weasel<0.5.0,>=0.1.0->spacy) (5.2.1)\n",
      "Requirement already satisfied: MarkupSafe>=2.0 in c:\\programdata\\anaconda3\\lib\\site-packages (from jinja2->spacy) (2.1.1)\n",
      "Requirement already satisfied: marisa-trie>=1.1.0 in c:\\users\\subhashini\\appdata\\roaming\\python\\python311\\site-packages (from language-data>=1.2->langcodes<4.0.0,>=3.2.0->spacy) (1.2.1)\n",
      "Requirement already satisfied: markdown-it-py>=2.2.0 in c:\\programdata\\anaconda3\\lib\\site-packages (from rich>=10.11.0->typer<1.0.0,>=0.3.0->spacy) (2.2.0)\n",
      "Requirement already satisfied: pygments<3.0.0,>=2.13.0 in c:\\programdata\\anaconda3\\lib\\site-packages (from rich>=10.11.0->typer<1.0.0,>=0.3.0->spacy) (2.15.1)\n",
      "Requirement already satisfied: mdurl~=0.1 in c:\\programdata\\anaconda3\\lib\\site-packages (from markdown-it-py>=2.2.0->rich>=10.11.0->typer<1.0.0,>=0.3.0->spacy) (0.1.0)\n"
     ]
    },
    {
     "name": "stderr",
     "output_type": "stream",
     "text": [
      "DEPRECATION: Loading egg at c:\\programdata\\anaconda3\\lib\\site-packages\\vboxapi-1.0-py3.11.egg is deprecated. pip 23.3 will enforce this behaviour change. A possible replacement is to use pip for package installation..\n"
     ]
    }
   ],
   "source": [
    "!pip install spacy\n",
    "!python -m spacy download en_core_web_sm\n"
   ]
  },
  {
   "cell_type": "code",
   "execution_count": 1,
   "id": "6f80c999",
   "metadata": {},
   "outputs": [
    {
     "name": "stdout",
     "output_type": "stream",
     "text": [
      "Entity: NLP, Type: ORG (Companies, agencies, institutions, etc.)\n",
      "Entity: Microsoft, Type: ORG (Companies, agencies, institutions, etc.)\n",
      "Entity: Bill Gates, Type: PERSON (People, including fictional)\n",
      "Entity: Paul Allen, Type: PERSON (People, including fictional)\n",
      "Entity: 1975, Type: DATE (Absolute or relative dates or periods)\n",
      "Entity: Redmond, Type: GPE (Countries, cities, states)\n",
      "Entity: Washington, Type: GPE (Countries, cities, states)\n"
     ]
    }
   ],
   "source": [
    "import spacy\n",
    "\n",
    "# Load the spaCy model\n",
    "nlp = spacy.load('en_core_web_sm')\n",
    "\n",
    "def perform_ner(text):\n",
    "    # Process the text using spaCy\n",
    "    doc = nlp(text)\n",
    "\n",
    "    # Print the entities and their types\n",
    "    for entity in doc.ents:\n",
    "        print(f\"Entity: {entity.text}, Type: {entity.label_} ({spacy.explain(entity.label_)})\")\n",
    "\n",
    "# Input text\n",
    "text = \"NLP is amazing and fun to learn. Microsoft was founded by Bill Gates and Paul Allen in 1975. The headquarters are located in Redmond, Washington.\"\n",
    "\n",
    "# Perform Named Entity Recognition\n",
    "perform_ner(text)\n"
   ]
  },
  {
   "cell_type": "markdown",
   "id": "e1f89896",
   "metadata": {},
   "source": [
    "## DAY-30"
   ]
  },
  {
   "cell_type": "code",
   "execution_count": 1,
   "id": "822b7b91",
   "metadata": {},
   "outputs": [
    {
     "name": "stdout",
     "output_type": "stream",
     "text": [
      "Defaulting to user installation because normal site-packages is not writeable\n",
      "Collecting textblob\n",
      "  Obtaining dependency information for textblob from https://files.pythonhosted.org/packages/1e/d6/40aa5aead775582ea0cf35870e5a3f16fab4b967f1ad2debe675f673f923/textblob-0.19.0-py3-none-any.whl.metadata\n",
      "  Using cached textblob-0.19.0-py3-none-any.whl.metadata (4.4 kB)\n",
      "Requirement already satisfied: nltk>=3.9 in c:\\users\\subhashini\\appdata\\roaming\\python\\python311\\site-packages (from textblob) (3.9.1)\n",
      "Requirement already satisfied: click in c:\\programdata\\anaconda3\\lib\\site-packages (from nltk>=3.9->textblob) (8.0.4)\n",
      "Requirement already satisfied: joblib in c:\\programdata\\anaconda3\\lib\\site-packages (from nltk>=3.9->textblob) (1.2.0)\n",
      "Requirement already satisfied: regex>=2021.8.3 in c:\\programdata\\anaconda3\\lib\\site-packages (from nltk>=3.9->textblob) (2022.7.9)\n",
      "Requirement already satisfied: tqdm in c:\\programdata\\anaconda3\\lib\\site-packages (from nltk>=3.9->textblob) (4.65.0)\n",
      "Requirement already satisfied: colorama in c:\\programdata\\anaconda3\\lib\\site-packages (from click->nltk>=3.9->textblob) (0.4.6)\n",
      "Using cached textblob-0.19.0-py3-none-any.whl (624 kB)\n",
      "Installing collected packages: textblob\n",
      "Successfully installed textblob-0.19.0\n",
      "Note: you may need to restart the kernel to use updated packages.\n"
     ]
    },
    {
     "name": "stderr",
     "output_type": "stream",
     "text": [
      "DEPRECATION: Loading egg at c:\\programdata\\anaconda3\\lib\\site-packages\\vboxapi-1.0-py3.11.egg is deprecated. pip 23.3 will enforce this behaviour change. A possible replacement is to use pip for package installation..\n"
     ]
    }
   ],
   "source": [
    "pip install textblob\n"
   ]
  },
  {
   "cell_type": "markdown",
   "id": "32adabf8",
   "metadata": {},
   "source": [
    "## Coding Exercise: Sentiment Analysis\n",
    "Write a Python program to perform sentiment analysis on a given text using the TextBlob library. Display whether the sentiment is positive, negative, or neutral.\n"
   ]
  },
  {
   "cell_type": "code",
   "execution_count": 3,
   "id": "8d6aa903",
   "metadata": {},
   "outputs": [
    {
     "name": "stdout",
     "output_type": "stream",
     "text": [
      "Sentiment: Positive\n"
     ]
    }
   ],
   "source": [
    "from textblob import TextBlob\n",
    "\n",
    "def analyze_sentiment(text):\n",
    "    # Create a TextBlob object\n",
    "    blob = TextBlob(text)\n",
    "    \n",
    "    # Get the polarity score\n",
    "    polarity = blob.sentiment.polarity\n",
    "    \n",
    "    # Determine the sentiment\n",
    "    if polarity > 0:\n",
    "        sentiment = 'Positive'\n",
    "    elif polarity < 0:\n",
    "        sentiment = 'Negative'\n",
    "    else:\n",
    "        sentiment = 'Neutral'\n",
    "    \n",
    "    return sentiment\n",
    "\n",
    "def main():\n",
    "    # Input text\n",
    "    text = \"TextBlob is a great tool for performing sentiment analysis.\"\n",
    "    \n",
    "    # Perform sentiment analysis\n",
    "    sentiment = analyze_sentiment(text)\n",
    "    \n",
    "    # Print the sentiment\n",
    "    print(f\"Sentiment: {sentiment}\")\n",
    "\n",
    "if __name__ == \"__main__\":\n",
    "    main()\n"
   ]
  },
  {
   "cell_type": "code",
   "execution_count": null,
   "id": "87ddd4c8",
   "metadata": {},
   "outputs": [],
   "source": []
  }
 ],
 "metadata": {
  "kernelspec": {
   "display_name": "Python 3 (ipykernel)",
   "language": "python",
   "name": "python3"
  },
  "language_info": {
   "codemirror_mode": {
    "name": "ipython",
    "version": 3
   },
   "file_extension": ".py",
   "mimetype": "text/x-python",
   "name": "python",
   "nbconvert_exporter": "python",
   "pygments_lexer": "ipython3",
   "version": "3.11.4"
  }
 },
 "nbformat": 4,
 "nbformat_minor": 5
}
